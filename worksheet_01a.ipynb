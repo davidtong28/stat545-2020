{
 "cells": [
  {
   "cell_type": "markdown",
   "metadata": {
    "deletable": false,
    "editable": false,
    "nbgrader": {
     "cell_type": "markdown",
     "checksum": "a8e3393be9395379e031801b37ec51d4",
     "grade": false,
     "grade_id": "cell-8b26929bab50eea3",
     "locked": true,
     "schema_version": 3,
     "solution": false,
     "task": false
    }
   },
   "source": [
    "# Worksheet 01A: Intro to R, R Markdown, and Reproducibility\n",
    "*Icíar Fernández Boyano*\n",
    "\n",
    "## Welcome to STAT545A!\n",
    "\n",
    "I hope that you are excited to become an R pro during the next few weeks! This is the first of 6 in-class worksheets that have been designed to help you navigate this R journey. We'll start easy, with some examples of R commands, and evolve to the more complex - and arguably cooler - syntax and structures of the R language.\n",
    "\n",
    "## An important note\n",
    "\n",
    "**Submission of this worksheet is optional, but encouraged**. Worksheets 2-6 in the remainder of the course **must** be submitted for participation marks.\n",
    "\n",
    "## Instructions + Grading\n",
    "\n",
    "*With the above in mind, these are the instructions to be followed to obtain marks for worksheets 2-6. The earlier you familiarize yourself with these, the better!*\n",
    "\n",
    "+ To get full marks for each participation worksheet, you must successfully answer at least 40% of all autograded questions. In this worksheet, that would mean 9/22 total questions (although this worksheet is ungraded).\n",
    "\n",
    "+ Autograded questions are easily identifiable throughout the worksheet, labelled as **QUESTION**. Any other instructions that prompt the student to write code are activities, which are not graded and thus do not contribute to marks - but do contribute to the workflow of the worksheet!\n",
    "\n",
    "+ Run this code chunk to load the packages required for the autograder:"
   ]
  },
  {
   "cell_type": "code",
   "execution_count": 2,
   "metadata": {
    "deletable": false,
    "editable": false,
    "lines_to_next_cell": 2,
    "message": false,
    "name": "autograder-req",
    "nbgrader": {
     "cell_type": "code",
     "checksum": "5eac5b6d588bfd0470c9a66ec76e8015",
     "grade": false,
     "grade_id": "cell-604a0e2a620c1e60",
     "locked": true,
     "schema_version": 3,
     "solution": false,
     "task": false
    },
    "warning": false
   },
   "outputs": [],
   "source": [
    "library(testthat)\n",
    "library(digest)"
   ]
  },
  {
   "cell_type": "markdown",
   "metadata": {
    "deletable": false,
    "editable": false,
    "nbgrader": {
     "cell_type": "markdown",
     "checksum": "a9ce0aae8bc002b88402e0da7948d52e",
     "grade": false,
     "grade_id": "cell-0da508f15814e7c2",
     "locked": true,
     "schema_version": 3,
     "solution": false,
     "task": false
    }
   },
   "source": [
    "## Attributions\n",
    "\n",
    "The following resources were used as inspiration in the creation of this worksheet:\n",
    "\n",
    "+ [Swirl R Programming Tutorial](https://swirlstats.com/scn/rprog.html)\n",
    "+ [A (very) short introduction to R](https://github.com/ClaudiaBrauer/A-very-short-introduction-to-R/blob/master/documents/A%20(very)%20short%20introduction%20to%20R.pdf)\n",
    "+ [Happy Git and GitHub for the useR](https://happygitwithr.com/)\n",
    "+ [2019 STAT545 Guidebook](https://stat545guidebook.netlify.app/index.html)\n",
    "+ [Jenny Bryan's STAT545 Guidebook](https://stat545.com/)\n",
    "\n",
    "## 0. Interacting with this Worksheet: Running code in jupyter\n",
    "\n",
    "In Episode 01A of the [STAT 545 video series](https://www.youtube.com/channel/UCrB-uourf2vxGeBnGjQrA0w), RStudio was mentioned as being an IDE for R. You're probably viewing this worksheet in another IDE called **jupyter**. We're using jupyter for the STAT 545 worksheets because it works well with an autograder called nbgrader.\n",
    "\n",
    "Try running the R code in the following _cell_: click on the cell, and either click \"Run\" in your toolbar, or press \"Shift + Enter\" or \"Shift + Return\"."
   ]
  },
  {
   "cell_type": "code",
   "execution_count": null,
   "metadata": {
    "deletable": false,
    "editable": false,
    "nbgrader": {
     "cell_type": "code",
     "checksum": "5d795467ad9e7d77a227860bf004f8ce",
     "grade": false,
     "grade_id": "cell-f44d16fede34bf1e",
     "locked": true,
     "schema_version": 3,
     "solution": false,
     "task": false
    }
   },
   "outputs": [],
   "source": [
    "1 + 1"
   ]
  },
  {
   "cell_type": "markdown",
   "metadata": {
    "deletable": false,
    "editable": false,
    "nbgrader": {
     "cell_type": "markdown",
     "checksum": "aae542524f6deef7a7fbe4dec695f804",
     "grade": false,
     "grade_id": "cell-d11d3973ab3460a1",
     "locked": true,
     "schema_version": 3,
     "solution": false,
     "task": false
    }
   },
   "source": [
    "The output appears below the cell.\n",
    "\n",
    "Also notice that you can't change the above code. We've programmed the worksheet that way to preserve the worksheet structure -- another plus to jupyter over RStudio here. The only cells you can change are the ones where we prompt you for input.\n",
    "\n",
    "## Class 1: A first glance at the R world\n",
    "\n",
    "This section of the worksheet is to be completed during Class 1: Intro to STAT545 and R. By the end of today's class, you will be able to: *LO1*.\n",
    "\n",
    "### 1.1 Calculator\n",
    "\n",
    "In its simplest form, R can be used as a interactive calculator. "
   ]
  },
  {
   "cell_type": "code",
   "execution_count": 2,
   "metadata": {
    "deletable": false,
    "editable": false,
    "name": "example-1-0",
    "nbgrader": {
     "cell_type": "code",
     "checksum": "a6df81a2ec8dd103cff119525f6c0828",
     "grade": false,
     "grade_id": "cell-02e613b3a71a2045",
     "locked": true,
     "schema_version": 3,
     "solution": false,
     "task": false
    }
   },
   "outputs": [
    {
     "data": {
      "text/html": [
       "14"
      ],
      "text/latex": [
       "14"
      ],
      "text/markdown": [
       "14"
      ],
      "text/plain": [
       "[1] 14"
      ]
     },
     "metadata": {},
     "output_type": "display_data"
    },
    {
     "data": {
      "text/html": [
       "6"
      ],
      "text/latex": [
       "6"
      ],
      "text/markdown": [
       "6"
      ],
      "text/plain": [
       "[1] 6"
      ]
     },
     "metadata": {},
     "output_type": "display_data"
    },
    {
     "data": {
      "text/html": [
       "2"
      ],
      "text/latex": [
       "2"
      ],
      "text/markdown": [
       "2"
      ],
      "text/plain": [
       "[1] 2"
      ]
     },
     "metadata": {},
     "output_type": "display_data"
    },
    {
     "data": {
      "text/html": [
       "10"
      ],
      "text/latex": [
       "10"
      ],
      "text/markdown": [
       "10"
      ],
      "text/plain": [
       "[1] 10"
      ]
     },
     "metadata": {},
     "output_type": "display_data"
    },
    {
     "data": {
      "text/html": [
       "81"
      ],
      "text/latex": [
       "81"
      ],
      "text/markdown": [
       "81"
      ],
      "text/plain": [
       "[1] 81"
      ]
     },
     "metadata": {},
     "output_type": "display_data"
    }
   ],
   "source": [
    "10 + 4 # you can add \n",
    "10 - 4 # subtract\n",
    "4 / 2 # divide\n",
    "2 * 5 # multiply\n",
    "3 ^ 4 # and exponentiate"
   ]
  },
  {
   "cell_type": "markdown",
   "metadata": {
    "deletable": false,
    "editable": false,
    "nbgrader": {
     "cell_type": "markdown",
     "checksum": "7b6eefcc7721b1c9b189c855e016cd7c",
     "grade": false,
     "grade_id": "cell-d081e2301c3f0e63",
     "locked": true,
     "schema_version": 3,
     "solution": false,
     "task": false
    }
   },
   "source": [
    "As you can see, R can handle any simple arithmetic expressions using the above operators. Your turn! Type 3 + 6 and press Enter."
   ]
  },
  {
   "cell_type": "code",
   "execution_count": 5,
   "metadata": {
    "deletable": false,
    "name": "activity-1-0",
    "nbgrader": {
     "cell_type": "code",
     "checksum": "ae04bf6e75211efb6f346eefcb78bba8",
     "grade": false,
     "grade_id": "cell-9385a590ab883289",
     "locked": false,
     "schema_version": 3,
     "solution": true,
     "task": false
    }
   },
   "outputs": [
    {
     "data": {
      "text/html": [
       "9"
      ],
      "text/latex": [
       "9"
      ],
      "text/markdown": [
       "9"
      ],
      "text/plain": [
       "[1] 9"
      ]
     },
     "metadata": {},
     "output_type": "display_data"
    }
   ],
   "source": [
    "a<-3+6\n",
    "a"
   ]
  },
  {
   "cell_type": "markdown",
   "metadata": {
    "deletable": false,
    "editable": false,
    "nbgrader": {
     "cell_type": "markdown",
     "checksum": "544cb95ccca1d1c45f5d9ce4d7509237",
     "grade": false,
     "grade_id": "cell-1d9ace945a0b283a",
     "locked": true,
     "schema_version": 3,
     "solution": false,
     "task": false
    }
   },
   "source": [
    "Now, subtract 2 from the result above."
   ]
  },
  {
   "cell_type": "code",
   "execution_count": 6,
   "metadata": {
    "deletable": false,
    "name": "activity-1-1",
    "nbgrader": {
     "cell_type": "code",
     "checksum": "41b262381c096873b1bf61ff7cf5986b",
     "grade": false,
     "grade_id": "cell-250f97c358e0f731",
     "locked": false,
     "schema_version": 3,
     "solution": true,
     "task": false
    }
   },
   "outputs": [
    {
     "data": {
      "text/html": [
       "4.5"
      ],
      "text/latex": [
       "4.5"
      ],
      "text/markdown": [
       "4.5"
      ],
      "text/plain": [
       "[1] 4.5"
      ]
     },
     "metadata": {},
     "output_type": "display_data"
    }
   ],
   "source": [
    "a/2"
   ]
  },
  {
   "cell_type": "markdown",
   "metadata": {
    "deletable": false,
    "editable": false,
    "nbgrader": {
     "cell_type": "markdown",
     "checksum": "65f2969f568f7af9d331563b4e4c95ac",
     "grade": false,
     "grade_id": "cell-ab5c3cec51c4ac26",
     "locked": true,
     "schema_version": 3,
     "solution": false,
     "task": false
    }
   },
   "source": [
    "Pretty easy, right? All that you have to do is type in your arithmetic expression, and press Enter. Now, what if you need to compute a longer expression? Let's say that I want to find out the percentage of students in the STAT department that are taking STAT545A (note: these numbers are fictional!). I could compute this in several steps, or use a more complex expression. \n",
    "\n",
    "**Using multiple steps...**\n",
    "\n",
    "+ To calculate the number of students in the STAT department, I add 375 new students that have enrolled this year, to the 2000 that were already enrolled."
   ]
  },
  {
   "cell_type": "code",
   "execution_count": 7,
   "metadata": {
    "deletable": false,
    "editable": false,
    "name": "example-1-1a",
    "nbgrader": {
     "cell_type": "code",
     "checksum": "4e62cb1aa7b5e1468f91ae788d34c43e",
     "grade": false,
     "grade_id": "cell-3a342455e968efc2",
     "locked": true,
     "schema_version": 3,
     "solution": false,
     "task": false
    }
   },
   "outputs": [
    {
     "data": {
      "text/html": [
       "2375"
      ],
      "text/latex": [
       "2375"
      ],
      "text/markdown": [
       "2375"
      ],
      "text/plain": [
       "[1] 2375"
      ]
     },
     "metadata": {},
     "output_type": "display_data"
    }
   ],
   "source": [
    "2000 + 375"
   ]
  },
  {
   "cell_type": "markdown",
   "metadata": {
    "deletable": false,
    "editable": false,
    "nbgrader": {
     "cell_type": "markdown",
     "checksum": "318b5cc9a2456c5cacee5f2042f07aef",
     "grade": false,
     "grade_id": "cell-ccd48654544fd353",
     "locked": true,
     "schema_version": 3,
     "solution": false,
     "task": false
    }
   },
   "source": [
    "+ There are 82 students taking STAT545A this year. Last year, there was the same number of students, but 3 dropped the course after the first two weeks. Let's hypothesise that only 1 will drop the course this year - although I hope the real number is 0 :)"
   ]
  },
  {
   "cell_type": "code",
   "execution_count": 8,
   "metadata": {
    "deletable": false,
    "editable": false,
    "name": "example-1-1b",
    "nbgrader": {
     "cell_type": "code",
     "checksum": "217b36a3a92825c3b6feff9a773327f4",
     "grade": false,
     "grade_id": "cell-23dd9f564b57ea4f",
     "locked": true,
     "schema_version": 3,
     "solution": false,
     "task": false
    }
   },
   "outputs": [
    {
     "data": {
      "text/html": [
       "81"
      ],
      "text/latex": [
       "81"
      ],
      "text/markdown": [
       "81"
      ],
      "text/plain": [
       "[1] 81"
      ]
     },
     "metadata": {},
     "output_type": "display_data"
    }
   ],
   "source": [
    "82 - 1"
   ]
  },
  {
   "cell_type": "markdown",
   "metadata": {
    "deletable": false,
    "editable": false,
    "nbgrader": {
     "cell_type": "markdown",
     "checksum": "4a7783b86bb0e7e4a06af6162fefacd5",
     "grade": false,
     "grade_id": "cell-345a371ec8621190",
     "locked": true,
     "schema_version": 3,
     "solution": false,
     "task": false
    }
   },
   "source": [
    "+ With the number of students taking STAT545 this year (hypothetically), and the number of students currently in the STAT department, I can now calculate what percentage of students in the STAT department are taking this class."
   ]
  },
  {
   "cell_type": "code",
   "execution_count": 9,
   "metadata": {
    "deletable": false,
    "editable": false,
    "name": "example-1-1c",
    "nbgrader": {
     "cell_type": "code",
     "checksum": "2c2bb6307a8e7bf0822babbe852ee262",
     "grade": false,
     "grade_id": "cell-f85728ee7af8d6bf",
     "locked": true,
     "schema_version": 3,
     "solution": false,
     "task": false
    }
   },
   "outputs": [
    {
     "data": {
      "text/html": [
       "0.0341052631578947"
      ],
      "text/latex": [
       "0.0341052631578947"
      ],
      "text/markdown": [
       "0.0341052631578947"
      ],
      "text/plain": [
       "[1] 0.03410526"
      ]
     },
     "metadata": {},
     "output_type": "display_data"
    }
   ],
   "source": [
    "81 / 2375"
   ]
  },
  {
   "cell_type": "code",
   "execution_count": 10,
   "metadata": {
    "deletable": false,
    "editable": false,
    "name": "example 1-1d",
    "nbgrader": {
     "cell_type": "code",
     "checksum": "c07d8c3b7a99385d0211ab57bf5f2eb4",
     "grade": false,
     "grade_id": "cell-a9bfe516af8ca200",
     "locked": true,
     "schema_version": 3,
     "solution": false,
     "task": false
    }
   },
   "outputs": [
    {
     "data": {
      "text/html": [
       "3.410526"
      ],
      "text/latex": [
       "3.410526"
      ],
      "text/markdown": [
       "3.410526"
      ],
      "text/plain": [
       "[1] 3.410526"
      ]
     },
     "metadata": {},
     "output_type": "display_data"
    }
   ],
   "source": [
    "0.03410526 * 100"
   ]
  },
  {
   "cell_type": "markdown",
   "metadata": {
    "deletable": false,
    "editable": false,
    "nbgrader": {
     "cell_type": "markdown",
     "checksum": "14624e8e62ed12a28570ac6d3dfcc332",
     "grade": false,
     "grade_id": "cell-42ec2ad158bd9526",
     "locked": true,
     "schema_version": 3,
     "solution": false,
     "task": false
    }
   },
   "source": [
    "**What if we use a single expression?**\n",
    "\n",
    "It seems that around 3% of students in the STAT department are taking STAT545A... but that took *a lot* of steps to calculate. We could also write it like this to save some time:"
   ]
  },
  {
   "cell_type": "code",
   "execution_count": 11,
   "metadata": {
    "deletable": false,
    "editable": false,
    "name": "example-1-2",
    "nbgrader": {
     "cell_type": "code",
     "checksum": "9a5ca33ff6c024c125db479d689dd13b",
     "grade": false,
     "grade_id": "cell-1998144f9345aaf9",
     "locked": true,
     "schema_version": 3,
     "solution": false,
     "task": false
    }
   },
   "outputs": [
    {
     "data": {
      "text/html": [
       "3.41052631578947"
      ],
      "text/latex": [
       "3.41052631578947"
      ],
      "text/markdown": [
       "3.41052631578947"
      ],
      "text/plain": [
       "[1] 3.410526"
      ]
     },
     "metadata": {},
     "output_type": "display_data"
    }
   ],
   "source": [
    "(82 - 1) / (2000 + 375) * 100 "
   ]
  },
  {
   "cell_type": "markdown",
   "metadata": {
    "deletable": false,
    "editable": false,
    "nbgrader": {
     "cell_type": "markdown",
     "checksum": "3ccf613806c3d65dd667e64ae95c9285",
     "grade": false,
     "grade_id": "cell-8aa79a95beade98c",
     "locked": true,
     "schema_version": 3,
     "solution": false,
     "task": false
    }
   },
   "source": [
    "As you can see, *taking care of precedence rules* (i.e. using brackets appropriately), we can save some time by writing a single expression.\n",
    "\n",
    "Your turn! Can you calculate the percentage of your life that you have spent in university? \n",
    "\n",
    "Compute the difference between 2020 and the year that you started university, and divide this by the difference between 2020 and the year that you were born. Multiply this with 100 to get the percentage of your life that you have spent in university. Your *challenge* here is to use a single expression."
   ]
  },
  {
   "cell_type": "code",
   "execution_count": 12,
   "metadata": {
    "deletable": false,
    "name": "activity-1-2",
    "nbgrader": {
     "cell_type": "code",
     "checksum": "ee7443db1c3aa052f23976fa273b87ca",
     "grade": false,
     "grade_id": "cell-2870f78fd232ab9b",
     "locked": false,
     "schema_version": 3,
     "solution": true,
     "task": false
    }
   },
   "outputs": [
    {
     "data": {
      "text/html": [
       "4.34782608695652"
      ],
      "text/latex": [
       "4.34782608695652"
      ],
      "text/markdown": [
       "4.34782608695652"
      ],
      "text/plain": [
       "[1] 4.347826"
      ]
     },
     "metadata": {},
     "output_type": "display_data"
    }
   ],
   "source": [
    "(2020-2019)/(2020-1997)*100"
   ]
  },
  {
   "cell_type": "markdown",
   "metadata": {
    "deletable": false,
    "editable": false,
    "nbgrader": {
     "cell_type": "markdown",
     "checksum": "6fdc362b96a9022c45547c9e097ed76d",
     "grade": false,
     "grade_id": "cell-1d3d407b175d3580",
     "locked": true,
     "schema_version": 3,
     "solution": false,
     "task": false
    }
   },
   "source": [
    "### 1.2 Variables\n",
    " \n",
    "Alright, R as a calculator works just fine... but you don't learn a programming language *only* to compute arithmetic expressions. What if you want to use your result from above in a second calculation? Instead of retyping your expression every time that you need it, or copying and pasting the result, you can simply create a new variable that stores it. \n",
    "\n",
    "Earlier, I figured out that I had spent 18% of my life at university. I want to assign this value to a variable called `life_university`, which will help me remember what my value means. The way you assign a value to a variable in R is by using the assignment operator, which is just a \"less than\" symbol, followed by a minus sign. It looks like this:"
   ]
  },
  {
   "cell_type": "code",
   "execution_count": null,
   "metadata": {
    "deletable": false,
    "editable": false,
    "name": "example-1-3a",
    "nbgrader": {
     "cell_type": "code",
     "checksum": "cecaccf0ba21c0ebd2fdf6260ea4f557",
     "grade": false,
     "grade_id": "cell-0f70f29b98cfc79a",
     "locked": true,
     "schema_version": 3,
     "solution": false,
     "task": false
    }
   },
   "outputs": [],
   "source": [
    "life_university <- 18"
   ]
  },
  {
   "cell_type": "markdown",
   "metadata": {
    "deletable": false,
    "editable": false,
    "nbgrader": {
     "cell_type": "markdown",
     "checksum": "25bbae92ee7dd0c8c8b2e94a66d3f7f4",
     "grade": false,
     "grade_id": "cell-b8bde8ad059c03e2",
     "locked": true,
     "schema_version": 3,
     "solution": false,
     "task": false
    }
   },
   "source": [
    "Now, the variable `life_university`, stores the value 18, which is the percentage of time that I had spent at university. But prior to saving this into a variable, I had to calculate the value separately. What if I directly assigned the arithmetic expression that I used to compute my value to the variable?"
   ]
  },
  {
   "cell_type": "code",
   "execution_count": 14,
   "metadata": {
    "deletable": false,
    "editable": false,
    "name": "example-1-3b",
    "nbgrader": {
     "cell_type": "code",
     "checksum": "49bf4bd71637e8cbd4bfaf8fc3fdc1e6",
     "grade": false,
     "grade_id": "cell-e943d9cf804fdf52",
     "locked": true,
     "schema_version": 3,
     "solution": false,
     "task": false
    }
   },
   "outputs": [],
   "source": [
    "life_university <- (2020 - 2016) / (2020 - 1998) * 100"
   ]
  },
  {
   "cell_type": "markdown",
   "metadata": {
    "deletable": false,
    "editable": false,
    "nbgrader": {
     "cell_type": "markdown",
     "checksum": "7ba5807d0285c77592adcb2784b04d2c",
     "grade": false,
     "grade_id": "cell-9eeb2f90831c3118",
     "locked": true,
     "schema_version": 3,
     "solution": false,
     "task": false
    }
   },
   "source": [
    "Notice that R did not print the result of my expression this time. When you use the assignment operator, R assumes that you don't want to see the result immediately, but rather that you intend to use it for something else later on. \n",
    "\n",
    "To view the contents of the variable, you simply have to type the name of the variable - in this case, `life_university` and press Enter. Try it below!"
   ]
  },
  {
   "cell_type": "code",
   "execution_count": 15,
   "metadata": {
    "deletable": false,
    "name": "activity-1-3",
    "nbgrader": {
     "cell_type": "code",
     "checksum": "7e44ee689b415389574d5289aa4c317b",
     "grade": false,
     "grade_id": "cell-36b3d8a5ba043c94",
     "locked": false,
     "schema_version": 3,
     "solution": true,
     "task": false
    }
   },
   "outputs": [
    {
     "data": {
      "text/html": [
       "18.1818181818182"
      ],
      "text/latex": [
       "18.1818181818182"
      ],
      "text/markdown": [
       "18.1818181818182"
      ],
      "text/plain": [
       "[1] 18.18182"
      ]
     },
     "metadata": {},
     "output_type": "display_data"
    }
   ],
   "source": [
    "life_university"
   ]
  },
  {
   "cell_type": "markdown",
   "metadata": {
    "deletable": false,
    "editable": false,
    "nbgrader": {
     "cell_type": "markdown",
     "checksum": "853e034abb5c911262c58ef0e72d3637",
     "grade": false,
     "grade_id": "cell-dbf010f638a0b404",
     "locked": true,
     "schema_version": 3,
     "solution": false,
     "task": false
    }
   },
   "source": [
    "**QUESTION 1.0**\n",
    "\n",
    "Now, it's your turn to store the percentage of time that **you** have spent at university into a variable - try typing the arithmetic expression that you used to compute that value, rather than the value itself! Name this variable `my_life_university` in the first cell below, and check whether the answer is acceptable by running the second cell below. If the test cell gives you an error, try a different answer!"
   ]
  },
  {
   "cell_type": "code",
   "execution_count": 16,
   "metadata": {
    "deletable": false,
    "name": "question-1-0",
    "nbgrader": {
     "cell_type": "code",
     "checksum": "36a2257ec345ee22e2dbac068da02542",
     "grade": false,
     "grade_id": "cell-04e950ccf3313117",
     "locked": false,
     "schema_version": 3,
     "solution": true,
     "task": false
    }
   },
   "outputs": [],
   "source": [
    "my_life_university <- (2020-2015)/(2020-1997)*100"
   ]
  },
  {
   "cell_type": "code",
   "execution_count": 17,
   "metadata": {
    "deletable": false,
    "editable": false,
    "name": "test-1-0",
    "nbgrader": {
     "cell_type": "code",
     "checksum": "b9a71973df2ea360d995048afde4e209",
     "grade": true,
     "grade_id": "cell-cebd6f6df5bdb3cc",
     "locked": true,
     "points": 1,
     "schema_version": 3,
     "solution": false,
     "task": false
    }
   },
   "outputs": [
    {
     "name": "stdout",
     "output_type": "stream",
     "text": [
      "[1] \"success!\"\n"
     ]
    }
   ],
   "source": [
    "test_that(\"Question 1.0\", {\n",
    "  expect_gte(my_life_university, 0)\n",
    "  expect_lte(my_life_university, 100)\n",
    "})\n",
    "print(\"success!\")"
   ]
  },
  {
   "cell_type": "markdown",
   "metadata": {
    "deletable": false,
    "editable": false,
    "nbgrader": {
     "cell_type": "markdown",
     "checksum": "89d4a56ca7393b77e7f90e0a902ae01f",
     "grade": false,
     "grade_id": "cell-93af8d6b89c2ed33",
     "locked": true,
     "schema_version": 3,
     "solution": false,
     "task": false
    }
   },
   "source": [
    "### 1.3 Data structures\n",
    "\n",
    "Any object that contains data is called a data structure.\n",
    "\n",
    "### 1.3.1 Vectors\n",
    "\n",
    "#### Numeric vectors\n",
    "\n",
    "So far, you've learned how to use R as a calculator, and how to use variables to store numeric values. But in reality, a \"variable\" in R is just a way to name your data so that R can recall it later. Think of it as a label that you put on a box, so that you remember the contents that are inside it. \n",
    "\n",
    "The variable that you created above, `my_life_university`, stores the most basic data structure in R programming language: a vector. Even a single number is considered a vector of length one, which is the case with the vector that was assigned to `my_life_university`. Let's have a look again:"
   ]
  },
  {
   "cell_type": "code",
   "execution_count": null,
   "metadata": {
    "deletable": false,
    "editable": false,
    "name": "example-1-3",
    "nbgrader": {
     "cell_type": "code",
     "checksum": "e44e87c4120fdf8341725130781c113d",
     "grade": false,
     "grade_id": "cell-df8e5f769d89a75b",
     "locked": true,
     "schema_version": 3,
     "solution": false,
     "task": false
    }
   },
   "outputs": [],
   "source": [
    "my_life_university"
   ]
  },
  {
   "cell_type": "markdown",
   "metadata": {
    "deletable": false,
    "editable": false,
    "nbgrader": {
     "cell_type": "markdown",
     "checksum": "2f07288c621b4805f3f5d3db77e482e7",
     "grade": false,
     "grade_id": "cell-f825e25671f73f81",
     "locked": true,
     "schema_version": 3,
     "solution": false,
     "task": false
    }
   },
   "source": [
    "In this way, you can think of the vector as the data structure, and the variable as a label. But what if you want a vector that's greater than length one, or in other words, that stores more than a single numeric value? The easiest way to create a vector is using `c()`, which stands for \"concatenate\", or \"combine\". \n",
    "\n",
    "**QUESTION 1.1**\n",
    "\n",
    "Let's give it a try. To create a vector containing the numbers 3.14, 2.71, and 6.28, type `c(3.14, 2.71, 6.28)`. Store the result in a variable called `x`. "
   ]
  },
  {
   "cell_type": "code",
   "execution_count": 18,
   "metadata": {
    "deletable": false,
    "name": "answer-1-1",
    "nbgrader": {
     "cell_type": "code",
     "checksum": "49ca025a9f46697c9c1408ef1ede9280",
     "grade": false,
     "grade_id": "cell-0d87e7f0d19a4cda",
     "locked": false,
     "schema_version": 3,
     "solution": true,
     "task": false
    }
   },
   "outputs": [],
   "source": [
    "x <- c(3.14,2.71,6.28)"
   ]
  },
  {
   "cell_type": "code",
   "execution_count": 19,
   "metadata": {
    "deletable": false,
    "editable": false,
    "lines_to_next_cell": 2,
    "name": "test-1-1",
    "nbgrader": {
     "cell_type": "code",
     "checksum": "6be478046628e425156b5d4c253d8610",
     "grade": true,
     "grade_id": "cell-76c5ca05ef0dfe64",
     "locked": true,
     "points": 1,
     "schema_version": 3,
     "solution": false,
     "task": false
    }
   },
   "outputs": [
    {
     "name": "stdout",
     "output_type": "stream",
     "text": [
      "[1] \"success!\"\n"
     ]
    }
   ],
   "source": [
    "test_that(\"Question 1.1\", {\n",
    "  expect_equal(digest(x), \"d696b13d28ab63409f1f528a2d37bb0e\")\n",
    "})\n",
    "print(\"success!\")"
   ]
  },
  {
   "cell_type": "markdown",
   "metadata": {
    "deletable": false,
    "editable": false,
    "nbgrader": {
     "cell_type": "markdown",
     "checksum": "0563b38f546880a165f05ae2ee14b79a",
     "grade": false,
     "grade_id": "cell-f9bab0fdef44f45e",
     "locked": true,
     "schema_version": 3,
     "solution": false,
     "task": false
    }
   },
   "source": [
    "Now, type `x` and press Enter to view its contents. Notice that there are no commas separating the values in the output!"
   ]
  },
  {
   "cell_type": "code",
   "execution_count": 20,
   "metadata": {
    "deletable": false,
    "name": "activity-1-4",
    "nbgrader": {
     "cell_type": "code",
     "checksum": "ead89fd1c9407992eb0770dbf312ebfb",
     "grade": false,
     "grade_id": "cell-00d1f175228d7909",
     "locked": false,
     "schema_version": 3,
     "solution": true,
     "task": false
    }
   },
   "outputs": [
    {
     "data": {
      "text/html": [
       "<style>\n",
       ".list-inline {list-style: none; margin:0; padding: 0}\n",
       ".list-inline>li {display: inline-block}\n",
       ".list-inline>li:not(:last-child)::after {content: \"\\00b7\"; padding: 0 .5ex}\n",
       "</style>\n",
       "<ol class=list-inline><li>3.14</li><li>2.71</li><li>6.28</li></ol>\n"
      ],
      "text/latex": [
       "\\begin{enumerate*}\n",
       "\\item 3.14\n",
       "\\item 2.71\n",
       "\\item 6.28\n",
       "\\end{enumerate*}\n"
      ],
      "text/markdown": [
       "1. 3.14\n",
       "2. 2.71\n",
       "3. 6.28\n",
       "\n",
       "\n"
      ],
      "text/plain": [
       "[1] 3.14 2.71 6.28"
      ]
     },
     "metadata": {},
     "output_type": "display_data"
    }
   ],
   "source": [
    "x"
   ]
  },
  {
   "cell_type": "markdown",
   "metadata": {
    "deletable": false,
    "editable": false,
    "nbgrader": {
     "cell_type": "markdown",
     "checksum": "721615b8ac86e74a741c8a7c2df33725",
     "grade": false,
     "grade_id": "cell-5200389128901c83",
     "locked": true,
     "schema_version": 3,
     "solution": false,
     "task": false
    }
   },
   "source": [
    "You can combine several vectors to make a new vector. And here is where things get fun! For the sake of seeing the result immediately, we won't store this combined vector in a new variable for now."
   ]
  },
  {
   "cell_type": "code",
   "execution_count": 21,
   "metadata": {
    "deletable": false,
    "editable": false,
    "name": "example-1-6",
    "nbgrader": {
     "cell_type": "code",
     "checksum": "a7e68d07b2e0624ea8fd90d2c3fa3ee9",
     "grade": false,
     "grade_id": "cell-e71c214be4ee55a2",
     "locked": true,
     "schema_version": 3,
     "solution": false,
     "task": false
    }
   },
   "outputs": [
    {
     "data": {
      "text/html": [
       "<style>\n",
       ".list-inline {list-style: none; margin:0; padding: 0}\n",
       ".list-inline>li {display: inline-block}\n",
       ".list-inline>li:not(:last-child)::after {content: \"\\00b7\"; padding: 0 .5ex}\n",
       "</style>\n",
       "<ol class=list-inline><li>10</li><li>50</li></ol>\n"
      ],
      "text/latex": [
       "\\begin{enumerate*}\n",
       "\\item 10\n",
       "\\item 50\n",
       "\\end{enumerate*}\n"
      ],
      "text/markdown": [
       "1. 10\n",
       "2. 50\n",
       "\n",
       "\n"
      ],
      "text/plain": [
       "[1] 10 50"
      ]
     },
     "metadata": {},
     "output_type": "display_data"
    }
   ],
   "source": [
    "c(10, 50)"
   ]
  },
  {
   "cell_type": "markdown",
   "metadata": {
    "deletable": false,
    "editable": false,
    "nbgrader": {
     "cell_type": "markdown",
     "checksum": "abbc362feca5cc96ca39ea27c005c0ce",
     "grade": false,
     "grade_id": "cell-ac73a3512f6cace0",
     "locked": true,
     "schema_version": 3,
     "solution": false,
     "task": false
    }
   },
   "source": [
    "And what's more: you can combine any numeric vectors together, regardless of whether they have already been assigned to a variable or not!"
   ]
  },
  {
   "cell_type": "code",
   "execution_count": 22,
   "metadata": {
    "deletable": false,
    "editable": false,
    "name": "example-1-7",
    "nbgrader": {
     "cell_type": "code",
     "checksum": "ff2be7af35ee00ab8d33bb7e24b87c74",
     "grade": false,
     "grade_id": "cell-130366e4f3577c91",
     "locked": true,
     "schema_version": 3,
     "solution": false,
     "task": false
    }
   },
   "outputs": [
    {
     "data": {
      "text/html": [
       "<style>\n",
       ".list-inline {list-style: none; margin:0; padding: 0}\n",
       ".list-inline>li {display: inline-block}\n",
       ".list-inline>li:not(:last-child)::after {content: \"\\00b7\"; padding: 0 .5ex}\n",
       "</style>\n",
       "<ol class=list-inline><li>3.14</li><li>2.71</li><li>6.28</li><li>50</li></ol>\n"
      ],
      "text/latex": [
       "\\begin{enumerate*}\n",
       "\\item 3.14\n",
       "\\item 2.71\n",
       "\\item 6.28\n",
       "\\item 50\n",
       "\\end{enumerate*}\n"
      ],
      "text/markdown": [
       "1. 3.14\n",
       "2. 2.71\n",
       "3. 6.28\n",
       "4. 50\n",
       "\n",
       "\n"
      ],
      "text/plain": [
       "[1]  3.14  2.71  6.28 50.00"
      ]
     },
     "metadata": {},
     "output_type": "display_data"
    }
   ],
   "source": [
    "c(x, 50)"
   ]
  },
  {
   "cell_type": "markdown",
   "metadata": {
    "deletable": false,
    "editable": false,
    "nbgrader": {
     "cell_type": "markdown",
     "checksum": "4cbeb36788e08bdb6405aef4748cd37f",
     "grade": false,
     "grade_id": "cell-15649fdc5348c402",
     "locked": true,
     "schema_version": 3,
     "solution": false,
     "task": false
    }
   },
   "source": [
    "**QUESTION 1.2**\n",
    "\n",
    "Your turn to give it a try. Create a new vector that contains `life_university`, `my_life_university`, and `25`. Store your result in a variable named `answer1.2`\n"
   ]
  },
  {
   "cell_type": "code",
   "execution_count": null,
   "metadata": {
    "deletable": false,
    "nbgrader": {
     "cell_type": "code",
     "checksum": "ebf6193f05860d24b56a320f63e020a7",
     "grade": false,
     "grade_id": "cell-61d5339d601052e3",
     "locked": false,
     "schema_version": 3,
     "solution": true,
     "task": false
    }
   },
   "outputs": [],
   "source": [
    "#answer1.2 <- ...\n",
    "# your code here\n",
    "fail() # No Answer - remove if you provide an answer\n",
    "print(\"success!\")"
   ]
  },
  {
   "cell_type": "code",
   "execution_count": null,
   "metadata": {
    "deletable": false,
    "editable": false,
    "lines_to_next_cell": 2,
    "nbgrader": {
     "cell_type": "code",
     "checksum": "357d10fc70757d4bb3088c04e7a56c45",
     "grade": true,
     "grade_id": "cell-57e9c5dc76061b99",
     "locked": true,
     "points": 1,
     "schema_version": 3,
     "solution": false,
     "task": false
    }
   },
   "outputs": [],
   "source": [
    "test_that(\"Question 1.1\", {\n",
    "  expect_identical(answer1.2[1L], life_university)\n",
    "  expect_identical(answer1.2[2L], my_life_university)\n",
    "  expect_equal(answer1.2[3L], 25)\n",
    "})\n"
   ]
  },
  {
   "cell_type": "markdown",
   "metadata": {
    "deletable": false,
    "editable": false,
    "nbgrader": {
     "cell_type": "markdown",
     "checksum": "1739e7c4f2d3524d6bde57e71050a9d1",
     "grade": false,
     "grade_id": "cell-d735b7d8bb863e07",
     "locked": true,
     "schema_version": 3,
     "solution": false,
     "task": false
    }
   },
   "source": [
    "One more cool thing before we go on: numeric vectors can be used in arithmetic expressions. Remembering the vector that we created earlier and assigned to the variable `x`? Let's have a look at it again."
   ]
  },
  {
   "cell_type": "code",
   "execution_count": null,
   "metadata": {
    "deletable": false,
    "editable": false,
    "name": "example-1-8",
    "nbgrader": {
     "cell_type": "code",
     "checksum": "e1047c9fe39035940d6c1c7ad1564fd4",
     "grade": false,
     "grade_id": "cell-fc6dd20fb255df19",
     "locked": true,
     "schema_version": 3,
     "solution": false,
     "task": false
    }
   },
   "outputs": [],
   "source": [
    "x"
   ]
  },
  {
   "cell_type": "markdown",
   "metadata": {
    "deletable": false,
    "editable": false,
    "nbgrader": {
     "cell_type": "markdown",
     "checksum": "1287022dc231f7033c614c2152c5244e",
     "grade": false,
     "grade_id": "cell-0fd8e0ec44a7e215",
     "locked": true,
     "schema_version": 3,
     "solution": false,
     "task": false
    }
   },
   "source": [
    "**QUESTION 1.3**\n",
    "\n",
    "Here's a fun fact: those three numbers are actually pi, euler's number, and tau. But that's a story for another course! Type the following to see what happens: `x * 2 + 100`... Actually, **wait!** What do **you** think will be the result of doing that?\n",
    "\n",
    "1: a vector of length three\n",
    "2: a single number (a vector of length 1)\n",
    "3: a vector of length 0 (i.e an empty vector)\n",
    "\n",
    "Assign your answer (`1`, `2`, or `3`) to a variable named `answer1.3`."
   ]
  },
  {
   "cell_type": "code",
   "execution_count": null,
   "metadata": {
    "deletable": false,
    "name": "question-1-2",
    "nbgrader": {
     "cell_type": "code",
     "checksum": "b7f48be446dcfc4a65527a2fc8882f78",
     "grade": false,
     "grade_id": "cell-4ea46a88f826bae6",
     "locked": false,
     "schema_version": 3,
     "solution": true,
     "task": false
    }
   },
   "outputs": [],
   "source": [
    "#answer1.3 <- youranswer\n",
    "# your code here\n",
    "fail() # No Answer - remove if you provide an answer"
   ]
  },
  {
   "cell_type": "code",
   "execution_count": null,
   "metadata": {
    "deletable": false,
    "editable": false,
    "lines_to_next_cell": 2,
    "name": "answer-1-2",
    "nbgrader": {
     "cell_type": "code",
     "checksum": "1f596718e716fccc7c407ad33d99dacb",
     "grade": true,
     "grade_id": "cell-9c92d0ea4e3f081a",
     "locked": true,
     "points": 1,
     "schema_version": 3,
     "solution": false,
     "task": false
    }
   },
   "outputs": [],
   "source": [
    "test_that(\"Answer check\", {\n",
    "  expect_identical(\n",
    "    digest(as.integer(answer1.3)), \n",
    "    \"4b5630ee914e848e8d07221556b0a2fb\"\n",
    "  )\n",
    "})\n",
    "print(\"success!\")"
   ]
  },
  {
   "cell_type": "markdown",
   "metadata": {
    "deletable": false,
    "editable": false,
    "nbgrader": {
     "cell_type": "markdown",
     "checksum": "5756d09d08cb76f6a95355d748edbca2",
     "grade": false,
     "grade_id": "cell-d3aa19d258f6f70c",
     "locked": true,
     "schema_version": 3,
     "solution": false,
     "task": false
    }
   },
   "source": [
    "Let's see what actually happens. Type `x * 2 + 100` and press Enter."
   ]
  },
  {
   "cell_type": "code",
   "execution_count": null,
   "metadata": {
    "deletable": false,
    "name": "activity-1-5",
    "nbgrader": {
     "cell_type": "code",
     "checksum": "db63a86ba93fd643e9fe7a9b69420337",
     "grade": false,
     "grade_id": "cell-1d6d6f463caf1882",
     "locked": false,
     "schema_version": 3,
     "solution": true,
     "task": false
    }
   },
   "outputs": [],
   "source": [
    "# your code here\n",
    "fail() # No Answer - remove if you provide an answer"
   ]
  },
  {
   "cell_type": "markdown",
   "metadata": {
    "deletable": false,
    "editable": false,
    "nbgrader": {
     "cell_type": "markdown",
     "checksum": "da0091a5abe1177daeaa92d7fa65b0fb",
     "grade": false,
     "grade_id": "cell-e1c1527b81a91bf6",
     "locked": true,
     "schema_version": 3,
     "solution": false,
     "task": false
    }
   },
   "source": [
    "First, R multiplied each of the three elements in `x` by 2. Then, it added 100 to each element to get the result that you see.\n",
    "\n",
    "#### Logical vectors\n",
    "\n",
    "So far we have only dealt with **numeric** vectors. But there are other types of vectors in the R universe. Let's have a look.\n",
    "\n",
    "**QUESTION 1.4**\n",
    "\n",
    "Enough of university, let's talk about vacation! A group of friends are discussing the places that they visited in 2019, and trying to figure out how much total vacation time each of them took. Pablo says he took 54 days off to travel locally, Dana was on vacation for only 14 days, and Marianne went to the Caribbean for 30 days.\n",
    "\n",
    "Create a vector that contains the values of Pablo, Dana, and Marianne's vacation days, respectively. Assign it to a variable named `vacation_time`."
   ]
  },
  {
   "cell_type": "code",
   "execution_count": null,
   "metadata": {
    "deletable": false,
    "name": "question-1-3",
    "nbgrader": {
     "cell_type": "code",
     "checksum": "27295b4b91560cedd17c06f52eb19aec",
     "grade": false,
     "grade_id": "cell-bf017d7e63aa3be5",
     "locked": false,
     "schema_version": 3,
     "solution": true,
     "task": false
    }
   },
   "outputs": [],
   "source": [
    "# vacation_time <- ...\n",
    "# your code here\n",
    "fail() # No Answer - remove if you provide an answer"
   ]
  },
  {
   "cell_type": "code",
   "execution_count": null,
   "metadata": {
    "deletable": false,
    "editable": false,
    "lines_to_next_cell": 2,
    "name": "test 1-3",
    "nbgrader": {
     "cell_type": "code",
     "checksum": "78ca3d015a99c25e52247a9416abfe9d",
     "grade": true,
     "grade_id": "cell-103585f25bdefe8c",
     "locked": true,
     "points": 1,
     "schema_version": 3,
     "solution": false,
     "task": false
    }
   },
   "outputs": [],
   "source": [
    "test_that(\"Answer check\", {\n",
    "  expect_identical(\n",
    "    digest(as.integer(vacation_time)), \n",
    "    \"8336872ae5cc234b1c1574e27d863ebb\"\n",
    "  )\n",
    "})\n",
    "print(\"success!\")"
   ]
  },
  {
   "cell_type": "markdown",
   "metadata": {
    "deletable": false,
    "editable": false,
    "nbgrader": {
     "cell_type": "markdown",
     "checksum": "282e88a78542a5167543ffc0343af8e6",
     "grade": false,
     "grade_id": "cell-f9ff62ffcfa6cfdd",
     "locked": true,
     "schema_version": 3,
     "solution": false,
     "task": false
    }
   },
   "source": [
    "**QUESTION 1.5**\n",
    "\n",
    "Which person was on vacation for more than 21600 minutes? First, create a numeric vector that multiplies the `vacation_time` vector by 1440 (the number of minutes in a day), to find out what each person's vacation time is *in minutes*. Assign this to a variable named `vacation_time_minutes`."
   ]
  },
  {
   "cell_type": "code",
   "execution_count": null,
   "metadata": {
    "deletable": false,
    "name": "question-1-4",
    "nbgrader": {
     "cell_type": "code",
     "checksum": "f896106cd8798b386e281b52b56109df",
     "grade": false,
     "grade_id": "cell-eff123da37be623e",
     "locked": false,
     "schema_version": 3,
     "solution": true,
     "task": false
    }
   },
   "outputs": [],
   "source": [
    "# vacation_time_minutes <- ...\n",
    "# your code here\n",
    "fail() # No Answer - remove if you provide an answer"
   ]
  },
  {
   "cell_type": "code",
   "execution_count": null,
   "metadata": {
    "deletable": false,
    "editable": false,
    "name": "test-1-4",
    "nbgrader": {
     "cell_type": "code",
     "checksum": "f5ebdca747ce1ed0ac4ad3875e93317d",
     "grade": true,
     "grade_id": "cell-aa364a693337a118",
     "locked": true,
     "points": 1,
     "schema_version": 3,
     "solution": false,
     "task": false
    }
   },
   "outputs": [],
   "source": [
    "test_that(\"Answer check\", {\n",
    "    expect_identical(\n",
    "      digest(as.numeric(vacation_time_minutes)),\n",
    "      \"ce79c61a9b5bd2b5bf4b4def95455438\"\n",
    "    )\n",
    "})\n",
    "print(\"success!\")"
   ]
  },
  {
   "cell_type": "markdown",
   "metadata": {
    "deletable": false,
    "editable": false,
    "nbgrader": {
     "cell_type": "markdown",
     "checksum": "a41dce2ddb88b391474da40d26b2091c",
     "grade": false,
     "grade_id": "cell-c564977e2f838536",
     "locked": true,
     "schema_version": 3,
     "solution": false,
     "task": false
    }
   },
   "source": [
    "**QUESTION 1.6**\n",
    "\n",
    "Now, create a variable called `under_21600` that gets the result of `vacation_time_minutes > 21600`, which is read as 'vacation_time_minutes is more than 21600'."
   ]
  },
  {
   "cell_type": "code",
   "execution_count": null,
   "metadata": {
    "deletable": false,
    "name": "question-1-5",
    "nbgrader": {
     "cell_type": "code",
     "checksum": "dd86fc6ddcae2a44318796a635cca5df",
     "grade": false,
     "grade_id": "cell-1dc4a1742d34d0d7",
     "locked": false,
     "schema_version": 3,
     "solution": true,
     "task": false
    }
   },
   "outputs": [],
   "source": [
    "# under_21600 <- ...\n",
    "# your code here\n",
    "fail() # No Answer - remove if you provide an answer"
   ]
  },
  {
   "cell_type": "code",
   "execution_count": null,
   "metadata": {
    "deletable": false,
    "editable": false,
    "lines_to_next_cell": 2,
    "name": "test-1-5",
    "nbgrader": {
     "cell_type": "code",
     "checksum": "9aac9350493ced4096731a031edade39",
     "grade": true,
     "grade_id": "cell-f62760b95bea63e2",
     "locked": true,
     "points": 1,
     "schema_version": 3,
     "solution": false,
     "task": false
    }
   },
   "outputs": [],
   "source": [
    "test_that(\"Answer check\", {\n",
    "    expect_identical(\n",
    "      digest(under_21600),\n",
    "      \"4f00878a54c541bdbf07c006a9d412dc\"\n",
    "    )\n",
    "})\n",
    "print(\"success!\")"
   ]
  },
  {
   "cell_type": "markdown",
   "metadata": {
    "deletable": false,
    "editable": false,
    "nbgrader": {
     "cell_type": "markdown",
     "checksum": "b45a868df4f847335f0b6efd0d81191d",
     "grade": false,
     "grade_id": "cell-abc0b44d2845a5af",
     "locked": true,
     "schema_version": 3,
     "solution": false,
     "task": false
    }
   },
   "source": [
    "Have a look at the output of `under_21600` by typing the name and pressing Enter."
   ]
  },
  {
   "cell_type": "code",
   "execution_count": null,
   "metadata": {
    "deletable": false,
    "name": "activity-1-6",
    "nbgrader": {
     "cell_type": "code",
     "checksum": "e567a4ff4e5b03b344b39bdba7cdc3c9",
     "grade": false,
     "grade_id": "cell-f2a4500a1bf1ecc3",
     "locked": false,
     "schema_version": 3,
     "solution": true,
     "task": false
    }
   },
   "outputs": [],
   "source": [
    "# your code here\n",
    "fail() # No Answer - remove if you provide an answer"
   ]
  },
  {
   "cell_type": "markdown",
   "metadata": {
    "deletable": false,
    "editable": false,
    "nbgrader": {
     "cell_type": "markdown",
     "checksum": "e6921322bd37100659188f5147f0c92a",
     "grade": false,
     "grade_id": "cell-4d1d9ba986efdbdd",
     "locked": true,
     "schema_version": 3,
     "solution": false,
     "task": false
    }
   },
   "source": [
    "Congratulations! You've created your first **logical vector**. Logical vectors can contain the values `TRUE`, `FALSE`, and `NA` (for 'not available' - this happens when you have missing data!). These values are generated as the result of logical 'conditions'. We have seen the logical operator \"greater than\" in this activity, but there are [many more](https://www.statmethods.net/management/operators.html), such as \"less than\", \"exactly equal to\", or \"not equal to\". Don't worry, there will be plenty of time to use those in the future!\n",
    "\n",
    "#### ...and more\n",
    "\n",
    "There are other types of vectors out there in the R universe, such as character vectors. We won't get into the nitty gritty of these - logical and numeric are the most basic R vectors, the ones that you absolutely need to know & that we will use most often. However, we didn't want to leave you in the dark about these other types of vectors! If you really, really want to know more, you can read [more about vectors](https://r4ds.had.co.nz/vectors.html) here.\n",
    "\n",
    "Anyway, here is a handy tip! If you ever come across a vector and you're not sure what it is, you can inspect its two key properties: type, and length. Here is an example of how you would do it. *\"Double\" is just a type of numeric vector.*"
   ]
  },
  {
   "cell_type": "code",
   "execution_count": null,
   "metadata": {
    "deletable": false,
    "editable": false,
    "name": "example-1-9",
    "nbgrader": {
     "cell_type": "code",
     "checksum": "68864d7db51300163fe4beea08eef1ce",
     "grade": false,
     "grade_id": "cell-ed6eca0c2a79760f",
     "locked": true,
     "schema_version": 3,
     "solution": false,
     "task": false
    }
   },
   "outputs": [],
   "source": [
    "typeof(x)\n",
    "length(x)"
   ]
  },
  {
   "cell_type": "markdown",
   "metadata": {
    "deletable": false,
    "editable": false,
    "nbgrader": {
     "cell_type": "markdown",
     "checksum": "d14ccbf11802a87043d0a13c6d7e0bdd",
     "grade": false,
     "grade_id": "cell-08f89be93b548b8e",
     "locked": true,
     "schema_version": 3,
     "solution": false,
     "task": false
    }
   },
   "source": [
    "### 1.3.2 Dataframes\n",
    "\n",
    "Living in a vector-only world would be nice if all data analyses involved one variable. When we have more than one variable, data frames come to the rescue. Basically, a data frame holds data in tabular format. R has some data frames \"built in\". For example, motor car data is attached to the variable name mtcars.\n",
    "\n",
    "Print `mtcars` to screen. If I haven't mentioned before, \"print\" means to type the name of the object, and press Enter -- which is the same as surrounding the object with the `print()` function. Notice the tabular format."
   ]
  },
  {
   "cell_type": "code",
   "execution_count": null,
   "metadata": {
    "deletable": false,
    "editable": false,
    "name": "activity-1-7",
    "nbgrader": {
     "cell_type": "code",
     "checksum": "4462db1059ae4f2162e03e5bd3b6f47f",
     "grade": false,
     "grade_id": "cell-d9ce48db712f1b07",
     "locked": true,
     "schema_version": 3,
     "solution": false,
     "task": false
    }
   },
   "outputs": [],
   "source": [
    "mtcars\n",
    "print(mtcars)"
   ]
  },
  {
   "cell_type": "markdown",
   "metadata": {
    "deletable": false,
    "editable": false,
    "nbgrader": {
     "cell_type": "markdown",
     "checksum": "4432ffa04a378b0c03f90025c5201e44",
     "grade": false,
     "grade_id": "cell-61de1f2d0df5bca4",
     "locked": true,
     "schema_version": 3,
     "solution": false,
     "task": false
    }
   },
   "source": [
    "We will talk more about dataframes in just a bit, but for now, just keep in mind that they are one of the most used data structures in R - albeit more complex than vectors.\n",
    "\n",
    "### 1.4 Subsetting\n",
    "\n",
    "Often, when you're working with a large dataset (such as `mtcars`), you will only be interested in a small portion of it. Even when working with a simpler data structure, such as vectors, you may want to extract a particular value that you are interested in. R has several ways of doing this, in a process that it calls \"subsetting\". Subsetting dataframes is definitely a more complex task - we will start little, with vectors.\n",
    "\n",
    "A student from a previous STAT545 cohort tracked his commute times for two weeks (10 days), and saved them in a vector that he stored in the variable `times`. Here is the `times` variable. "
   ]
  },
  {
   "cell_type": "code",
   "execution_count": null,
   "metadata": {
    "deletable": false,
    "editable": false,
    "name": "times",
    "nbgrader": {
     "cell_type": "code",
     "checksum": "0e91114856a66ca7c65b3dc7d08a9cb3",
     "grade": false,
     "grade_id": "cell-78252235e1d5148b",
     "locked": true,
     "schema_version": 3,
     "solution": false,
     "task": false
    }
   },
   "outputs": [],
   "source": [
    "times <- c(18, 22, 43, 26, 75, 31, 32, 17, 16, 51)"
   ]
  },
  {
   "cell_type": "markdown",
   "metadata": {
    "deletable": false,
    "editable": false,
    "nbgrader": {
     "cell_type": "markdown",
     "checksum": "707e0a9f08eb800ad265cb2702576a80",
     "grade": false,
     "grade_id": "cell-f9666453c58f185c",
     "locked": true,
     "schema_version": 3,
     "solution": false,
     "task": false
    }
   },
   "source": [
    "We use `[]` to subset the vector of times. Although we had a look at this in class, here are a couple examples to refresh your memory. To extract the first entry of a vector:"
   ]
  },
  {
   "cell_type": "code",
   "execution_count": null,
   "metadata": {
    "deletable": false,
    "editable": false,
    "name": "example-1-10",
    "nbgrader": {
     "cell_type": "code",
     "checksum": "db9c6444ed7a3182ead977cefa09792f",
     "grade": false,
     "grade_id": "cell-bd8f9c32442ea258",
     "locked": true,
     "schema_version": 3,
     "solution": false,
     "task": false
    }
   },
   "outputs": [],
   "source": [
    "x[1]"
   ]
  },
  {
   "cell_type": "markdown",
   "metadata": {
    "deletable": false,
    "editable": false,
    "nbgrader": {
     "cell_type": "markdown",
     "checksum": "343b7699668faf34de074f6b6f08b640",
     "grade": false,
     "grade_id": "cell-d22c02234f3ab50f",
     "locked": true,
     "schema_version": 3,
     "solution": false,
     "task": false
    }
   },
   "source": [
    "And if I want to extract everything *but* the first entry:"
   ]
  },
  {
   "cell_type": "code",
   "execution_count": null,
   "metadata": {
    "deletable": false,
    "editable": false,
    "name": "example-1-11",
    "nbgrader": {
     "cell_type": "code",
     "checksum": "ea66f3554a4c1813d7ff0ac5ca685765",
     "grade": false,
     "grade_id": "cell-2fead6186e5faa2f",
     "locked": true,
     "schema_version": 3,
     "solution": false,
     "task": false
    }
   },
   "outputs": [],
   "source": [
    "x[-1]"
   ]
  },
  {
   "cell_type": "markdown",
   "metadata": {
    "deletable": false,
    "editable": false,
    "nbgrader": {
     "cell_type": "markdown",
     "checksum": "c11afcfe53c9347fd404efb633800d13",
     "grade": false,
     "grade_id": "cell-a9afbe0547d200af",
     "locked": true,
     "schema_version": 3,
     "solution": false,
     "task": false
    }
   },
   "source": [
    "You're doing a great job! Now, it's your turn to use `[]` to subset the vector of times. Keep it up!\n",
    "\n",
    "**QUESTION 1.7**\n",
    "\n",
    "Extract the third entry of the `times` vector, and store the result in a variable named `answer1.7`."
   ]
  },
  {
   "cell_type": "code",
   "execution_count": null,
   "metadata": {
    "deletable": false,
    "nbgrader": {
     "cell_type": "code",
     "checksum": "282b1ded48127b1573856fa106eb23a6",
     "grade": false,
     "grade_id": "cell-9c43bdaa066cf9be",
     "locked": false,
     "schema_version": 3,
     "solution": true,
     "task": false
    }
   },
   "outputs": [],
   "source": [
    "# answer1.7 <- ...\n",
    "# your code here\n",
    "fail() # No Answer - remove if you provide an answer"
   ]
  },
  {
   "cell_type": "code",
   "execution_count": null,
   "metadata": {
    "deletable": false,
    "editable": false,
    "lines_to_next_cell": 2,
    "nbgrader": {
     "cell_type": "code",
     "checksum": "18397566bccf58af76d1cd8830d524df",
     "grade": true,
     "grade_id": "cell-fc4318f2c768353e",
     "locked": true,
     "points": 1,
     "schema_version": 3,
     "solution": false,
     "task": false
    }
   },
   "outputs": [],
   "source": [
    "test_that(\"Answer check\", {\n",
    "    expect_identical(\n",
    "      digest(answer1.7),\n",
    "      \"e3aac2c171de0322895102f09101ba98\"\n",
    "    )\n",
    "})\n",
    "print(\"success!\")"
   ]
  },
  {
   "cell_type": "markdown",
   "metadata": {
    "deletable": false,
    "editable": false,
    "nbgrader": {
     "cell_type": "markdown",
     "checksum": "ed1a064fd60a3535f561be46f0543354",
     "grade": false,
     "grade_id": "cell-6d72f91cfe89bbbe",
     "locked": true,
     "schema_version": 3,
     "solution": false,
     "task": false
    }
   },
   "source": [
    "**QUESTION 1.8**\n",
    "\n",
    "Extract everything in `times` except the third entry. Store the result in a variable named `answer1.8`."
   ]
  },
  {
   "cell_type": "code",
   "execution_count": null,
   "metadata": {
    "deletable": false,
    "name": "question-1-6",
    "nbgrader": {
     "cell_type": "code",
     "checksum": "417498af34b689f57b9b6619693e5f7a",
     "grade": false,
     "grade_id": "cell-5059b20d3a5e2257",
     "locked": false,
     "schema_version": 3,
     "solution": true,
     "task": false
    }
   },
   "outputs": [],
   "source": [
    "# answer1.8 <- ...\n",
    "# your code here\n",
    "fail() # No Answer - remove if you provide an answer"
   ]
  },
  {
   "cell_type": "code",
   "execution_count": null,
   "metadata": {
    "deletable": false,
    "editable": false,
    "lines_to_next_cell": 2,
    "name": "test-1-6",
    "nbgrader": {
     "cell_type": "code",
     "checksum": "3036f644b7b1ce50432111c7ed936fb6",
     "grade": true,
     "grade_id": "cell-529aaa0beede8288",
     "locked": true,
     "points": 1,
     "schema_version": 3,
     "solution": false,
     "task": false
    }
   },
   "outputs": [],
   "source": [
    "test_that(\"Answer check\", {\n",
    "    expect_identical(\n",
    "      digest(answer1.8),\n",
    "      \"600c1ff6db302a52139f9ac39dd41d0c\"\n",
    "    )\n",
    "})\n",
    "print(\"success!\")"
   ]
  },
  {
   "cell_type": "markdown",
   "metadata": {
    "deletable": false,
    "editable": false,
    "nbgrader": {
     "cell_type": "markdown",
     "checksum": "dffee1b57b6af4c7f9e638e114c30132",
     "grade": false,
     "grade_id": "cell-291d05e19e05b8ff",
     "locked": true,
     "schema_version": 3,
     "solution": false,
     "task": false
    }
   },
   "source": [
    "**QUESTION 1.9**\n",
    "\n",
    "Extract the second and fourth entry of `times`, and store it in a variable called `answer1.9a`. Extract the fourth and second entry of `times`, and store it in a variable called `answer1.9b`. *Hint: remember `c()`?*"
   ]
  },
  {
   "cell_type": "code",
   "execution_count": null,
   "metadata": {
    "deletable": false,
    "name": "question-1-7",
    "nbgrader": {
     "cell_type": "code",
     "checksum": "5d3d6fa2e4a6edd1aa7c7e9115b83b24",
     "grade": false,
     "grade_id": "cell-122807aab027ca58",
     "locked": false,
     "schema_version": 3,
     "solution": true,
     "task": false
    }
   },
   "outputs": [],
   "source": [
    "# answer1.9a <- ...\n",
    "# answer1.9b <- ...\n",
    "# your code here\n",
    "fail() # No Answer - remove if you provide an answer"
   ]
  },
  {
   "cell_type": "code",
   "execution_count": null,
   "metadata": {
    "deletable": false,
    "editable": false,
    "lines_to_next_cell": 0,
    "name": "test-1-7",
    "nbgrader": {
     "cell_type": "code",
     "checksum": "1df8b0d67b99add2b9c3de3a60e96d1f",
     "grade": true,
     "grade_id": "cell-5ce1faeb13ff62de",
     "locked": true,
     "points": 1,
     "schema_version": 3,
     "solution": false,
     "task": false
    }
   },
   "outputs": [],
   "source": [
    "test_that(\"Answer check\", {\n",
    "  expect_identical(\n",
    "    digest(answer1.9a),\n",
    "    \"24887cb43232d541bb551ce34f852e69\"\n",
    "  )\n",
    "  expect_identical(\n",
    "    digest(answer1.9b),\n",
    "    \"94001bedd89d74d064e93afdf1b57986\"\n",
    "  )\n",
    "})\n",
    "print(\"success!\")"
   ]
  },
  {
   "cell_type": "markdown",
   "metadata": {
    "deletable": false,
    "editable": false,
    "nbgrader": {
     "cell_type": "markdown",
     "checksum": "9b6549566991280d99792ffa2600c2f2",
     "grade": false,
     "grade_id": "cell-285513d8d0a7b29b",
     "locked": true,
     "schema_version": 3,
     "solution": false,
     "task": false
    }
   },
   "source": [
    "**QUESTION 1.10**\n",
    "\n",
    "Extract the second through fifth entry of `times` – make use of `:` to construct sequential vectors. Store the result in a variable named `answer1.10`."
   ]
  },
  {
   "cell_type": "code",
   "execution_count": null,
   "metadata": {
    "deletable": false,
    "name": "question-1-8",
    "nbgrader": {
     "cell_type": "code",
     "checksum": "6e527193cc68ff5967fd5b7fe35f0a07",
     "grade": false,
     "grade_id": "cell-b43afbf7653655cd",
     "locked": false,
     "schema_version": 3,
     "solution": true,
     "task": false
    }
   },
   "outputs": [],
   "source": [
    "# answer1.10 <- ...\n",
    "# your code here\n",
    "fail() # No Answer - remove if you provide an answer"
   ]
  },
  {
   "cell_type": "code",
   "execution_count": null,
   "metadata": {
    "deletable": false,
    "editable": false,
    "lines_to_next_cell": 2,
    "name": "test-1-8",
    "nbgrader": {
     "cell_type": "code",
     "checksum": "d23650772f0cf3d9c2695e70e2072ce5",
     "grade": true,
     "grade_id": "cell-aa55397aaf797937",
     "locked": true,
     "points": 1,
     "schema_version": 3,
     "solution": false,
     "task": false
    }
   },
   "outputs": [],
   "source": [
    "test_that(\"Answer check\", {\n",
    "    expect_identical(\n",
    "      digest(answer1.10),\n",
    "      \"3dff0beb6577b621859c9a3579b8d379\"\n",
    "    )\n",
    "})\n",
    "print(\"success!\")"
   ]
  },
  {
   "cell_type": "markdown",
   "metadata": {
    "deletable": false,
    "editable": false,
    "nbgrader": {
     "cell_type": "markdown",
     "checksum": "354cbd930fae32747a65025d21c01a90",
     "grade": false,
     "grade_id": "cell-19dcdf530107701a",
     "locked": true,
     "schema_version": 3,
     "solution": false,
     "task": false
    }
   },
   "source": [
    "**QUESTION 1.11**\n",
    "\n",
    "Extract all entries of `times` that are less than 30 minutes, and place the result in a variable named `answer1.11`. Why does this work? Logical subsetting!"
   ]
  },
  {
   "cell_type": "code",
   "execution_count": null,
   "metadata": {
    "deletable": false,
    "name": "question-1-9",
    "nbgrader": {
     "cell_type": "code",
     "checksum": "5139b69018d30b9881d78092501bb3c8",
     "grade": false,
     "grade_id": "cell-2e0e3bcdd6873bb5",
     "locked": false,
     "schema_version": 3,
     "solution": true,
     "task": false
    }
   },
   "outputs": [],
   "source": [
    "# answer1.11 <- ...\n",
    "# your code here\n",
    "fail() # No Answer - remove if you provide an answer"
   ]
  },
  {
   "cell_type": "code",
   "execution_count": null,
   "metadata": {
    "deletable": false,
    "editable": false,
    "lines_to_next_cell": 2,
    "name": "test-1-9",
    "nbgrader": {
     "cell_type": "code",
     "checksum": "cfc91f7ed54df3ef44df8c45cb1762f9",
     "grade": true,
     "grade_id": "cell-84c765a59f939e4a",
     "locked": true,
     "points": 1,
     "schema_version": 3,
     "solution": false,
     "task": false
    }
   },
   "outputs": [],
   "source": [
    "test_that(\"Answer check\", {\n",
    "    expect_identical(\n",
    "      digest(answer1.11),\n",
    "      \"547b9ded5983c354d5684dbfa0909ceb\"\n",
    "    )\n",
    "})\n",
    "print(\"success!\")"
   ]
  },
  {
   "cell_type": "markdown",
   "metadata": {
    "deletable": false,
    "editable": false,
    "nbgrader": {
     "cell_type": "markdown",
     "checksum": "a9013de7df42c5def80ab0d0a1a73891",
     "grade": false,
     "grade_id": "cell-000a9cf18a089909",
     "locked": true,
     "schema_version": 3,
     "solution": false,
     "task": false
    }
   },
   "source": [
    "**QUESTION 1.12**\n",
    "\n",
    "After all of that, did the `times` object change at all?\n",
    "\n",
    "1. yes\n",
    "2. no\n",
    "3. not sure\n",
    "\n",
    "Store your answer in an object called `answer1.12`."
   ]
  },
  {
   "cell_type": "code",
   "execution_count": null,
   "metadata": {
    "deletable": false,
    "name": "question-1-10",
    "nbgrader": {
     "cell_type": "code",
     "checksum": "5041bce976b0cd3041d29ea21456f312",
     "grade": false,
     "grade_id": "cell-7ab202b71ea51f36",
     "locked": false,
     "schema_version": 3,
     "solution": true,
     "task": false
    }
   },
   "outputs": [],
   "source": [
    "#answer1.12 <- ...\n",
    "# your code here\n",
    "fail() # No Answer - remove if you provide an answer"
   ]
  },
  {
   "cell_type": "code",
   "execution_count": null,
   "metadata": {
    "deletable": false,
    "editable": false,
    "nbgrader": {
     "cell_type": "code",
     "checksum": "fa28f0c57bb197b2e5438da6f9c99b86",
     "grade": true,
     "grade_id": "cell-b58cf9a17dd5dae2",
     "locked": true,
     "points": 1,
     "schema_version": 3,
     "solution": false,
     "task": false
    }
   },
   "outputs": [],
   "source": [
    "test_that(\"Answer check\", {\n",
    "    expect_identical(\n",
    "      digest(as.integer(answer1.12)),\n",
    "      \"c01f179e4b57ab8bd9de309e6d576c48\"\n",
    "    )\n",
    "})\n",
    "print(\"success!\")"
   ]
  },
  {
   "cell_type": "markdown",
   "metadata": {
    "deletable": false,
    "editable": false,
    "nbgrader": {
     "cell_type": "markdown",
     "checksum": "502752fa6c879fde976e1149356680b3",
     "grade": false,
     "grade_id": "cell-bd15376b48e4811b",
     "locked": true,
     "schema_version": 3,
     "solution": false,
     "task": false
    }
   },
   "source": [
    "**QUESTION 1.13**\n",
    "\n",
    "This is a bit of challenge, but I bet you can do it. Try using `[]` in conjunction with `<-` to change the `times` objects by replacing the 2nd and 3rd entries with 2 new travel times of your choosing.\n",
    "\n",
    "(Before you do that, allow us to store the original `times` object for autograding!)"
   ]
  },
  {
   "cell_type": "code",
   "execution_count": null,
   "metadata": {
    "deletable": false,
    "editable": false,
    "nbgrader": {
     "cell_type": "code",
     "checksum": "e005f83330f8029f46e5bd6be646ba54",
     "grade": false,
     "grade_id": "cell-cd7661342aaca022",
     "locked": true,
     "schema_version": 3,
     "solution": false,
     "task": false
    }
   },
   "outputs": [],
   "source": [
    "times_old <- times"
   ]
  },
  {
   "cell_type": "markdown",
   "metadata": {
    "deletable": false,
    "editable": false,
    "nbgrader": {
     "cell_type": "markdown",
     "checksum": "c97831600ffd814150c31a2787516167",
     "grade": false,
     "grade_id": "cell-9394243633df3245",
     "locked": true,
     "schema_version": 3,
     "solution": false,
     "task": false
    }
   },
   "source": [
    "Now, answer away!"
   ]
  },
  {
   "cell_type": "code",
   "execution_count": null,
   "metadata": {
    "deletable": false,
    "name": "question-1-11",
    "nbgrader": {
     "cell_type": "code",
     "checksum": "9876134643edc71ec0b1504a55fbd9d4",
     "grade": false,
     "grade_id": "cell-2e19fbd54689c8f5",
     "locked": false,
     "schema_version": 3,
     "solution": true,
     "task": false
    }
   },
   "outputs": [],
   "source": [
    "# your answer here\n",
    "# your code here\n",
    "fail() # No Answer - remove if you provide an answer"
   ]
  },
  {
   "cell_type": "code",
   "execution_count": null,
   "metadata": {
    "deletable": false,
    "editable": false,
    "lines_to_next_cell": 2,
    "name": "test-1-11",
    "nbgrader": {
     "cell_type": "code",
     "checksum": "c907aaef185e6dba2a39bd4fc0d07546",
     "grade": true,
     "grade_id": "cell-6db10ac9c23cc3bd",
     "locked": true,
     "points": 1,
     "schema_version": 3,
     "solution": false,
     "task": false
    }
   },
   "outputs": [],
   "source": [
    "# Test that `times` still has length 10, and that the entries are the\n",
    "# same except for the 2nd and 3rd.\n",
    "test_that(\"Answer check\", {\n",
    "  expect_identical(length(times), 10L)\n",
    "  expect_identical(times_old[-c(2, 3)], times[-c(2, 3)])\n",
    "  expect_true(times_old[2] != times[2])\n",
    "  expect_true(times_old[3] != times[3])\n",
    "})\n",
    "print(\"success!\")"
   ]
  },
  {
   "cell_type": "markdown",
   "metadata": {
    "deletable": false,
    "editable": false,
    "nbgrader": {
     "cell_type": "markdown",
     "checksum": "5e169b49d884199c3edca1d4ee34d27a",
     "grade": false,
     "grade_id": "cell-ff59e02a034653c1",
     "locked": true,
     "schema_version": 3,
     "solution": false,
     "task": false
    }
   },
   "source": [
    "### 1.6 Functions\n",
    "\n",
    "Functions are one of the fundamental building blocks of the R language. They are small pieces of reusable code that can be treated like any other R object. Functions are easily recognizable because they are usually characterized by their name followed by parenthesis. For example, if there was a function that could make bread, it would look like this: bread().\n",
    "\n",
    "**QUESTION 1.14**\n",
    "\n",
    "You have actually already used 3 functions in this worksheet before being formally introduced to what a function is. Can you recall if any of these functions have been used in this worksheet already?\n",
    "\n",
    "1. `c()`\n",
    "2. `mean()`\n",
    "3. `typeof()`\n",
    "4. `length()`\n",
    "\n",
    "Hint: More than 1 answer may be correct -- make a vector of all of the correct ones!"
   ]
  },
  {
   "cell_type": "code",
   "execution_count": null,
   "metadata": {
    "deletable": false,
    "name": "answer-1-11",
    "nbgrader": {
     "cell_type": "code",
     "checksum": "21d54d255481cf08e8a2b8382be8af61",
     "grade": false,
     "grade_id": "cell-9fcc0142a463e216",
     "locked": false,
     "schema_version": 3,
     "solution": true,
     "task": false
    }
   },
   "outputs": [],
   "source": [
    "# answer1.11 <- youranswer\n",
    "# your code here\n",
    "fail() # No Answer - remove if you provide an answer"
   ]
  },
  {
   "cell_type": "code",
   "execution_count": null,
   "metadata": {
    "deletable": false,
    "editable": false,
    "nbgrader": {
     "cell_type": "code",
     "checksum": "e037e9bb3908e6bf2032e125953f48e1",
     "grade": true,
     "grade_id": "cell-e6eed02e488ad154",
     "locked": true,
     "points": 1,
     "schema_version": 3,
     "solution": false,
     "task": false
    }
   },
   "outputs": [],
   "source": [
    "test_that(\"Answer check\", {\n",
    "    expect_identical(\n",
    "      digest(as.numeric(sort(answer1.11))),\n",
    "      \"4134a7d98ca59ee300379e7486bca55d\"\n",
    "    )\n",
    "})\n",
    "print(\"success!\")"
   ]
  },
  {
   "cell_type": "markdown",
   "metadata": {
    "deletable": false,
    "editable": false,
    "nbgrader": {
     "cell_type": "markdown",
     "checksum": "5ade8cba890f50251dfdec170b674ecc",
     "grade": false,
     "grade_id": "cell-ee34dc4a43ba3467",
     "locked": true,
     "schema_version": 3,
     "solution": false,
     "task": false
    }
   },
   "source": [
    "There are tens of thousands of functions that one can use in R, which seems a bit large for this worksheet. Let's explore a few basic functions just for fun. Type `Sys.Date()` below to see what happens!"
   ]
  },
  {
   "cell_type": "code",
   "execution_count": null,
   "metadata": {
    "deletable": false,
    "name": "activity-1-9",
    "nbgrader": {
     "cell_type": "code",
     "checksum": "2f094992b0b18fb735fb6678f205a78e",
     "grade": false,
     "grade_id": "cell-9662d15e1e88e7b8",
     "locked": false,
     "schema_version": 3,
     "solution": true,
     "task": false
    }
   },
   "outputs": [],
   "source": [
    "# your code here\n",
    "fail() # No Answer - remove if you provide an answer"
   ]
  },
  {
   "cell_type": "markdown",
   "metadata": {
    "deletable": false,
    "editable": false,
    "nbgrader": {
     "cell_type": "markdown",
     "checksum": "b6a1b55ed992a4c35f4a5c52ef685188",
     "grade": false,
     "grade_id": "cell-97dbbd0ff341ffff",
     "locked": true,
     "schema_version": 3,
     "solution": false,
     "task": false
    }
   },
   "source": [
    "Remember that there are different types of vectors, besides numeric and logical? Well, the output of `Sys.Date()` is actually an example of another vector type, known in R language as a \"string\". A \"string\" is just a character (any value written within a pair of single or double quotes in R) variable that contains one or more characters! \n",
    "\n",
    "The value that `Sys.Date()` computes is based on your computer's environment, but functions in R can also manipulate input data in order to compute a return value. At the start of this worksheet, you were introduced to the simplest form of R - as a calculator. Actually, R functions allow us to compute certain things that could be done manually as a calculator, but much faster.\n",
    "\n",
    "Recall the `times` vector earlier. What's the average travel time? Instead of computing this manually, we can use a function called `mean`. "
   ]
  },
  {
   "cell_type": "code",
   "execution_count": null,
   "metadata": {
    "deletable": false,
    "editable": false,
    "name": "example-1-12",
    "nbgrader": {
     "cell_type": "code",
     "checksum": "0442e7984394184b2789f332c1bf7ed0",
     "grade": false,
     "grade_id": "cell-49301c151f447382",
     "locked": true,
     "schema_version": 3,
     "solution": false,
     "task": false
    }
   },
   "outputs": [],
   "source": [
    "mean(times)"
   ]
  },
  {
   "cell_type": "markdown",
   "metadata": {
    "deletable": false,
    "editable": false,
    "nbgrader": {
     "cell_type": "markdown",
     "checksum": "1c03e02cd4e51e313821ea58d4a2431e",
     "grade": false,
     "grade_id": "cell-9d07b29f76367267",
     "locked": true,
     "schema_version": 3,
     "solution": false,
     "task": false
    }
   },
   "source": [
    "Notice the syntax of using a function: starting by the left with the *function name*, and the *input* goes inside brackets. We *input* times, and we got an *output*. Did this function change the *input*? Check:"
   ]
  },
  {
   "cell_type": "code",
   "execution_count": null,
   "metadata": {
    "deletable": false,
    "nbgrader": {
     "cell_type": "code",
     "checksum": "e79548d5900f21d98733151bc5f2de03",
     "grade": false,
     "grade_id": "cell-2527e37630fdc01b",
     "locked": false,
     "schema_version": 3,
     "solution": true,
     "task": false
    }
   },
   "outputs": [],
   "source": [
    "# your code here\n",
    "fail() # No Answer - remove if you provide an answer"
   ]
  },
  {
   "cell_type": "markdown",
   "metadata": {
    "deletable": false,
    "editable": false,
    "nbgrader": {
     "cell_type": "markdown",
     "checksum": "80ddc5ccd42dff0a9e221c94ae3a67d1",
     "grade": false,
     "grade_id": "cell-ade6a4aff0947e9f",
     "locked": true,
     "schema_version": 3,
     "solution": false,
     "task": false
    }
   },
   "source": [
    "**QUESTION 1.15**\n",
    "\n",
    "Aside from bizarre functions, this is always the case. But functions don't always return a single value. Try the `range()` function (assigning the result to `answer1.15a`), and the `sqrt()` function (assigning the result to `answer1.15b`), using the `times` vector as an argument for both.\n"
   ]
  },
  {
   "cell_type": "code",
   "execution_count": null,
   "metadata": {
    "deletable": false,
    "lines_to_next_cell": 2,
    "name": "question-1-12",
    "nbgrader": {
     "cell_type": "code",
     "checksum": "8cd649a8f625e68d8c77cc804837d754",
     "grade": false,
     "grade_id": "cell-b47579d0c904248a",
     "locked": false,
     "schema_version": 3,
     "solution": true,
     "task": false
    }
   },
   "outputs": [],
   "source": [
    "#answer1.15a <- youranswer\n",
    "#answer1.15b <- youranswer\n",
    "# your code here\n",
    "fail() # No Answer - remove if you provide an answer"
   ]
  },
  {
   "cell_type": "code",
   "execution_count": null,
   "metadata": {
    "deletable": false,
    "editable": false,
    "name": "answer-1-12",
    "nbgrader": {
     "cell_type": "code",
     "checksum": "a26d722d4594a7063d303d913a47c59a",
     "grade": true,
     "grade_id": "cell-4c85f43d6bfd6e06",
     "locked": true,
     "points": 1,
     "schema_version": 3,
     "solution": false,
     "task": false
    }
   },
   "outputs": [],
   "source": [
    "test_that(\"Answer check\", {\n",
    "  expect_identical(answer1.15a, range(times))\n",
    "  expect_identical(answer1.15b, sqrt(times))  \n",
    "})\n",
    "print(\"success!\")"
   ]
  },
  {
   "cell_type": "markdown",
   "metadata": {
    "deletable": false,
    "editable": false,
    "nbgrader": {
     "cell_type": "markdown",
     "checksum": "6864f15799584717414427bb233dc1de",
     "grade": false,
     "grade_id": "cell-d1c9d42b92296b01",
     "locked": true,
     "schema_version": 3,
     "solution": false,
     "task": false
    }
   },
   "source": [
    "Functions can also take more than one argument as input, separated by commas. You can find out what these arguments are by accessing the function’s documentation, which you can do by executing `?\"function name\"`. Try accessing the documentation of the `mean()` function by executing `?mean`."
   ]
  },
  {
   "cell_type": "code",
   "execution_count": null,
   "metadata": {
    "deletable": false,
    "name": "activity-1-10",
    "nbgrader": {
     "cell_type": "code",
     "checksum": "df73f9a2c923073541d3427fcde462c8",
     "grade": false,
     "grade_id": "cell-4fd48b9ab4063979",
     "locked": false,
     "schema_version": 3,
     "solution": true,
     "task": false
    }
   },
   "outputs": [],
   "source": [
    "# your code here\n",
    "fail() # No Answer - remove if you provide an answer"
   ]
  },
  {
   "cell_type": "markdown",
   "metadata": {
    "deletable": false,
    "editable": false,
    "nbgrader": {
     "cell_type": "markdown",
     "checksum": "c1bd6c2bce2e8be7e04ea532d9088db7",
     "grade": false,
     "grade_id": "cell-e94a18f9bb776edb",
     "locked": true,
     "schema_version": 3,
     "solution": false,
     "task": false
    }
   },
   "source": [
    "There are four arguments. All the arguments have names, except for the `...` argument (more on `...` -- ellipses -- later). This is always the case.\n",
    "\n",
    "Under \"Usage\", some of the arguments are of the form `name = value`. These are default values, in case you don't specify these arguments. This is a sure sign that these arguments are optional.\n",
    "\n",
    "`x` is \"on its own\". This typically means that it has no default, and often (but not always) means that the argument is required. We can specify an argument in one of two ways:\n",
    "\n",
    "+ specifying argument `name = value` in the function parentheses; or\n",
    "+ matching the ordering of the input with the ordering of the arguments.\n",
    "\n",
    "For readability, this is not recommended beyond the first or sometimes second argument! \n",
    "\n",
    "**QUESTION 1.16**\n",
    "\n",
    "Try executing `mean()` again with `times` as an argument, but this time, set the `na.rm` to `TRUE`. Store the result in a variable named `answer1.16`."
   ]
  },
  {
   "cell_type": "code",
   "execution_count": null,
   "metadata": {
    "deletable": false,
    "name": "question-1-13",
    "nbgrader": {
     "cell_type": "code",
     "checksum": "fdee4d563c51539bdbb0d624d6ae8dbf",
     "grade": false,
     "grade_id": "cell-de91816819964158",
     "locked": false,
     "schema_version": 3,
     "solution": true,
     "task": false
    }
   },
   "outputs": [],
   "source": [
    "#answer1.16 <- youranswer\n",
    "# your code here\n",
    "fail() # No Answer - remove if you provide an answer"
   ]
  },
  {
   "cell_type": "code",
   "execution_count": null,
   "metadata": {
    "deletable": false,
    "editable": false,
    "name": "answer-1-13",
    "nbgrader": {
     "cell_type": "code",
     "checksum": "35eb9c91147e68c3da2b270e19836fc2",
     "grade": true,
     "grade_id": "cell-ae3bba6dd9e77802",
     "locked": true,
     "points": 1,
     "schema_version": 3,
     "solution": false,
     "task": false
    }
   },
   "outputs": [],
   "source": [
    "test_that(\"Answer check\", {\n",
    "    expect_identical(answer1.16, mean(times, na.rm = TRUE))\n",
    "})\n",
    "print(\"success!\")"
   ]
  },
  {
   "cell_type": "markdown",
   "metadata": {
    "deletable": false,
    "editable": false,
    "nbgrader": {
     "cell_type": "markdown",
     "checksum": "d4383ab02581a2637905130182165384",
     "grade": false,
     "grade_id": "cell-3a3b2d082a935f90",
     "locked": true,
     "schema_version": 3,
     "solution": false,
     "task": false
    }
   },
   "source": [
    "**QUESTION 1.17**\n",
    "\n",
    "The mean is the same, because there are no `NA` values in the vector `times`. Put your subsetting knowledge into practice by replacing the third entry of the `times` vector by a missing value (`NA`)."
   ]
  },
  {
   "cell_type": "code",
   "execution_count": null,
   "metadata": {
    "deletable": false,
    "name": "question-1-14",
    "nbgrader": {
     "cell_type": "code",
     "checksum": "42ae0cc3f30446e0c80ed72408030ca5",
     "grade": false,
     "grade_id": "cell-342edc09f72e7a8c",
     "locked": false,
     "schema_version": 3,
     "solution": true,
     "task": false
    }
   },
   "outputs": [],
   "source": [
    "# youranswer\n",
    "#hint: solution starts with times[...\n",
    "# your code here\n",
    "fail() # No Answer - remove if you provide an answer"
   ]
  },
  {
   "cell_type": "code",
   "execution_count": null,
   "metadata": {
    "deletable": false,
    "editable": false,
    "name": "answer-1-14",
    "nbgrader": {
     "cell_type": "code",
     "checksum": "a8e280db6ed9ced6b5d6e86d0b43732f",
     "grade": true,
     "grade_id": "cell-6cde747b897599a4",
     "locked": true,
     "points": 1,
     "schema_version": 3,
     "solution": false,
     "task": false
    }
   },
   "outputs": [],
   "source": [
    "test_that(\"Answer check\", {\n",
    "    expect_identical(which(is.na(times)), 3L)\n",
    "})\n",
    "print(\"success!\")"
   ]
  },
  {
   "cell_type": "markdown",
   "metadata": {
    "deletable": false,
    "editable": false,
    "nbgrader": {
     "cell_type": "markdown",
     "checksum": "a4bc2d3fb6f115fefc0a33e45fe3894e",
     "grade": false,
     "grade_id": "cell-d43cdab8bc89c4b3",
     "locked": true,
     "schema_version": 3,
     "solution": false,
     "task": false
    }
   },
   "source": [
    "**QUESTION 1.18**\n",
    "\n",
    "Now, try executing `mean()` specifying `na.rm` as `TRUE` again (with `times` as an input). Store the output in a variable named `answer1.18`."
   ]
  },
  {
   "cell_type": "code",
   "execution_count": null,
   "metadata": {
    "deletable": false,
    "name": "question-1-15",
    "nbgrader": {
     "cell_type": "code",
     "checksum": "40042d9615836bcae45485f6bbe20540",
     "grade": false,
     "grade_id": "cell-796c60eb34c7f758",
     "locked": false,
     "schema_version": 3,
     "solution": true,
     "task": false
    }
   },
   "outputs": [],
   "source": [
    "#answer1.18 <- youranswer\n",
    "# your code here\n",
    "fail() # No Answer - remove if you provide an answer"
   ]
  },
  {
   "cell_type": "code",
   "execution_count": null,
   "metadata": {
    "deletable": false,
    "editable": false,
    "name": "answer-1-15",
    "nbgrader": {
     "cell_type": "code",
     "checksum": "12c695142048430297f66692cbb4daaf",
     "grade": true,
     "grade_id": "cell-ad7598274cbe0104",
     "locked": true,
     "points": 1,
     "schema_version": 3,
     "solution": false,
     "task": false
    }
   },
   "outputs": [],
   "source": [
    "test_that(\"Answer check\", {\n",
    "    expect_identical(answer1.18, mean(times, na.rm = TRUE))\n",
    "})\n",
    "print(\"success!\")"
   ]
  },
  {
   "cell_type": "markdown",
   "metadata": {
    "deletable": false,
    "editable": false,
    "nbgrader": {
     "cell_type": "markdown",
     "checksum": "ce99c978634a6d64b73ca4d81dcf2442",
     "grade": false,
     "grade_id": "cell-12b47a9a552cf299",
     "locked": true,
     "schema_version": 3,
     "solution": false,
     "task": false
    }
   },
   "source": [
    "Notice how the output changes. What if you try setting `na.rm` as `FALSE` instead?"
   ]
  },
  {
   "cell_type": "code",
   "execution_count": null,
   "metadata": {
    "deletable": false,
    "name": "activity-1-11",
    "nbgrader": {
     "cell_type": "code",
     "checksum": "7a0fa1465f6efe4ee517d21df90d89fb",
     "grade": false,
     "grade_id": "cell-7d18408ab8437abe",
     "locked": false,
     "schema_version": 3,
     "solution": true,
     "task": false
    }
   },
   "outputs": [],
   "source": [
    "# your code here\n",
    "fail() # No Answer - remove if you provide an answer"
   ]
  },
  {
   "cell_type": "markdown",
   "metadata": {
    "deletable": false,
    "editable": false,
    "nbgrader": {
     "cell_type": "markdown",
     "checksum": "0dc00a8fcdf3fd3faa8545b909ed2795",
     "grade": false,
     "grade_id": "cell-09bcba6873f96394",
     "locked": true,
     "schema_version": 3,
     "solution": false,
     "task": false
    }
   },
   "source": [
    "The function cannot calculate the mean of the numeric vector if there are missing values. \n",
    "\n",
    "**Tip:** Always *look* at the data that you are using. When functions fail and you don't know what went wrong, the error is usually traceable to the input. But we will talk more about errors later on!\n",
    "\n",
    "## 2. R Markdown & Reproducibility \n",
    "\n",
    "This section of the worksheet is to be completed during Class 3: RMarkdown and Reproducibility.\n",
    "\n",
    "### 2.1 What have we learned so far?\n",
    "\n",
    "**QUESTION 2.1**\n",
    "\n",
    "We've discussed output formats, which represent different ways in which you can display a manuscript. Previously, you have completed part 1 of this worksheet on a format known as Jupyter notebook, which you will continue to use throughout the course, *but we will not focus on how to actually generate this file*. What are other non-proprietary files? You may select more than one answer. Store the corresponding numbers of the possibilities in a vector named `answer2.1`. \n",
    "\n",
    "1. PDF\n",
    "2. MS Word\n",
    "3. HTML\n",
    "4. TXT\n",
    "5. LaTeX"
   ]
  },
  {
   "cell_type": "code",
   "execution_count": null,
   "metadata": {
    "deletable": false,
    "name": "question-1-16",
    "nbgrader": {
     "cell_type": "code",
     "checksum": "a989ac60cb1c2d5c9983f7c57e716f2b",
     "grade": false,
     "grade_id": "cell-befb26be393c55ad",
     "locked": false,
     "schema_version": 3,
     "solution": true,
     "task": false
    }
   },
   "outputs": [],
   "source": [
    "#answer2.1 <- youranswer\n",
    "# your code here\n",
    "fail() # No Answer - remove if you provide an answer"
   ]
  },
  {
   "cell_type": "code",
   "execution_count": null,
   "metadata": {
    "deletable": false,
    "editable": false,
    "name": "answer-1-16",
    "nbgrader": {
     "cell_type": "code",
     "checksum": "ba439c659658f84c18607417a27da68a",
     "grade": true,
     "grade_id": "cell-325abb809a6980c8",
     "locked": true,
     "points": 1,
     "schema_version": 3,
     "solution": false,
     "task": false
    }
   },
   "outputs": [],
   "source": [
    "test_that(\"Answer check\", {\n",
    "    expect_false(2 %in% answer2.1 | 2L %in% answer2.1)\n",
    "})\n",
    "print(\"success!\")"
   ]
  },
  {
   "cell_type": "markdown",
   "metadata": {
    "deletable": false,
    "editable": false,
    "nbgrader": {
     "cell_type": "markdown",
     "checksum": "17322c9293278dec34501d1b0719cfa1",
     "grade": false,
     "grade_id": "cell-0fb6fcfc313826e0",
     "locked": true,
     "schema_version": 3,
     "solution": false,
     "task": false
    }
   },
   "source": [
    "**QUESTION 2.2**\n",
    "\n",
    "When you are working on a data analysis project, being able to integrate reproducible code into a clear, legible document is key - not only for working with others, but also for revisiting your own analyses. Non-proprietary files should be the output of your R Markdown. Why not just use MS Word to report on your analysis? Again, you may select more than one answer. Store the corresponding numbers of the possibilities in a vector named `answer2.2`. \n",
    "\n",
    "1. It costs money\n",
    "2. Files can be edited\n",
    "3. Files don't look as good\n",
    "4. It cannot integrate code"
   ]
  },
  {
   "cell_type": "code",
   "execution_count": null,
   "metadata": {
    "deletable": false,
    "name": "question-1-17",
    "nbgrader": {
     "cell_type": "code",
     "checksum": "c8138a45074d10af9b59493317581c0e",
     "grade": false,
     "grade_id": "cell-2958acc1a5e6f9ad",
     "locked": false,
     "schema_version": 3,
     "solution": true,
     "task": false
    }
   },
   "outputs": [],
   "source": [
    "#answer2.2 <- youranswer\n",
    "# your code here\n",
    "fail() # No Answer - remove if you provide an answer"
   ]
  },
  {
   "cell_type": "code",
   "execution_count": null,
   "metadata": {
    "deletable": false,
    "editable": false,
    "name": "answer-1-17",
    "nbgrader": {
     "cell_type": "code",
     "checksum": "b9e724240bdebeb4ef4eaae123d94053",
     "grade": true,
     "grade_id": "cell-dce98c6b23f4d5f7",
     "locked": true,
     "points": 1,
     "schema_version": 3,
     "solution": false,
     "task": false
    }
   },
   "outputs": [],
   "source": [
    "test_that(\"Answer check\", {\n",
    "  expect_false(1 %in% answer2.2 | 1L %in% answer2.2)\n",
    "  expect_false(3 %in% answer2.2 | 3L %in% answer2.2)\n",
    "})\n",
    "print(\"success!\")"
   ]
  },
  {
   "cell_type": "markdown",
   "metadata": {
    "deletable": false,
    "editable": false,
    "nbgrader": {
     "cell_type": "markdown",
     "checksum": "cb3f2823e4938493b901182a8ca13cc6",
     "grade": false,
     "grade_id": "cell-808d55d6418ff04b",
     "locked": true,
     "schema_version": 3,
     "solution": false,
     "task": false
    }
   },
   "source": [
    "**QUESTION 2.3**\n",
    "\n",
    "Markdown is a markup language with plain-text-formatting syntax, or in other words, an easy-to-write and easy-to-read way to style text. It allows to control many aspects of your document display, such as formatting words as **bold** or *italic* or embedding [links](https://media0.giphy.com/media/S9RKaj4E4dhWvKfMHf/giphy.gif?cid=ecf05e47ajg4qei1tctlea9mtwpik0mrscyxfg3q7nixr8w8&rid=giphy.gif). Sites like GitHub and Reddit support markdown. R Markdown (Rmd) is a \"beefed up\" version of markdown with the same syntax, but many more features built into it. What are some important ones? More than one answer may be correct. Store the corresponding numbers of the possibilities in a vector named `answer2.3`. \n",
    "\n",
    "1. Integrates code into the document\n",
    "2. Has HTML widgets\n",
    "3. Specifies more features through a YAML header"
   ]
  },
  {
   "cell_type": "code",
   "execution_count": null,
   "metadata": {
    "deletable": false,
    "name": "question-1-18",
    "nbgrader": {
     "cell_type": "code",
     "checksum": "64d59844288fb4d50039f9dfa84d5a13",
     "grade": false,
     "grade_id": "cell-9b214f3b407a61e1",
     "locked": false,
     "schema_version": 3,
     "solution": true,
     "task": false
    }
   },
   "outputs": [],
   "source": [
    "#answer2.3 <- youranswer\n",
    "# your code here\n",
    "fail() # No Answer - remove if you provide an answer"
   ]
  },
  {
   "cell_type": "code",
   "execution_count": null,
   "metadata": {
    "deletable": false,
    "editable": false,
    "name": "answer-1-18",
    "nbgrader": {
     "cell_type": "code",
     "checksum": "870bba872b75effc1a4ac5df97653d41",
     "grade": true,
     "grade_id": "cell-080956f5041b37a0",
     "locked": true,
     "points": 1,
     "schema_version": 3,
     "solution": false,
     "task": false
    }
   },
   "outputs": [],
   "source": [
    "test_that(\"Answer check\", {\n",
    "  expect_false(2 %in% answer2.3 | 2L %in% answer2.3)\n",
    "})\n",
    "print(\"success!\")"
   ]
  },
  {
   "cell_type": "markdown",
   "metadata": {
    "deletable": false,
    "editable": false,
    "nbgrader": {
     "cell_type": "markdown",
     "checksum": "e29b3b372d72b5e56bb954b6124796cf",
     "grade": false,
     "grade_id": "cell-55e6ef12c390bca3",
     "locked": true,
     "schema_version": 3,
     "solution": false,
     "task": false
    }
   },
   "source": [
    "### 2.2 What we learn to do, we learn by doing!\n",
    "\n",
    "Enough questions. It's your turn to give R Markdown a try! \n",
    "\n",
    "**Instructions:** Open the .Rmd version of this worksheet (found in Canvas, under Class 3) in R Studio, and let's get started.\n",
    "\n",
    "**Working on this worksheet section outside of class hours?** In case of catastrophic failure to make anything work:\n",
    "\n",
    "+ Contact any of the STAT545A teaching team - contact details [here](https://stat545.stat.ubc.ca/#contact).\n",
    "+ Jenny Bryan, the STAT545 founder, compiled a [troubleshooting](https://happygitwithr.com/rmd-test-drive.html#rmd-troubleshooting) for R Markdown page that guides you through common fixes.\n",
    "\n",
    "### Getting set up with R packages\n",
    "\n",
    "R packages are the fundamental unit of shareable code. Each package is a collection of functions, data, and compiled code in well-defined format. Packages are usually developed by the R community (meaning that yes, you can develop a package yourself!) and they are easy to share with others.\n",
    "\n",
    "To get started with using R Markdown, you’ll need to install the **rmarkdown** R package. The activity we have also depends on the **gapminder**, **tibble**, and **DT** packages. Run the chunk below to install them.\n",
    "\n",
    "```\n",
    "install.packages('rmarkdown')\n",
    "install.packages('gapminder')\n",
    "install.packages('tibble')\n",
    "install.packages('DT')\n",
    "```\n",
    "\n",
    "*Normally*, you would type commands for installing packages in the R console rather than a code chunk - this is just streamlined for the purpose of completing the workshop. \n",
    "\n",
    "\"Official\" R packages are stored and retrieved from [CRAN](https://cran.r-project.org/), the Comprehensive R Archive Network. If you need information about a package, you can check out its vignette with this command, which will open a window in your browser:\n",
    "\n",
    "```\n",
    "browseVignettes(package = \"rmarkdown\")\n",
    "```"
   ]
  },
  {
   "cell_type": "markdown",
   "metadata": {
    "deletable": false,
    "editable": false,
    "nbgrader": {
     "cell_type": "markdown",
     "checksum": "3cc413aa56824bc9de9e63828280d873",
     "grade": false,
     "grade_id": "cell-c9ce82fb2f8fb62e",
     "locked": true,
     "schema_version": 3,
     "solution": false,
     "task": false
    }
   },
   "source": [
    "### Exploring code chunks\n",
    "\n",
    "**INSTRUCTIONS:**\n",
    "\n",
    "Read through the following instructions carefully to explore the different features of R Markdown:\n",
    "\n",
    "1. Go to the top of this document and explore the YAML header. \n",
    "\n",
    "2. Open a new Rmd document (but don't close this one!) in RStudio via \"File\" > \"New File\" > \"R Markdown\". Accept the default output format of HTML. See the differences with this document in the header? As you can see, when I started writing this Rmd, I scrapped everything that appears below the YAML header - this is common practice.\n",
    "\n",
    "3. Add a code chunk below these instructions (below **START**) via \"Insert\" -> \"R\" (look for this at the top of this Rmd document window). Or by: cmd + option + I (MAC) / ctrl + alt + i (WINDOWS).\n",
    "\n",
    "4. The R packages that you installed previously are ready in your local machine, but to be able to use them in this document, you must **load** them first. To do this, add the following code into the code chunk that you just created.\n",
    "\n",
    "5. Create a new code chunk. Print out the \"mtcars\" dataframe to explore the output, and then convert it to a tibble using the tibble::as_tibble() function.\n",
    "\n",
    "6. In another code chunk, print out the \"gapminder\" dataframe to explore the output, and try out the DT::datatable() function to see what it looks like.\n",
    "\n",
    "7. Add some markdown commentary to this comparative analysis! If you were to give this document to someone to read through your \"analysis\", a few notes would make it more readable. Use at least 3 text markup [features of R Markdown](https://rstudio.com/wp-content/uploads/2016/03/rmarkdown-cheatsheet-2.0.pdf?_ga=2.83099670.1689512796.1597728464-1784159993.1567907747) - see the second page of the cheatsheet on the left under \"Pandoc's Markdown\".\n",
    "\n",
    "8. Add an [in-line code chunk](https://rmarkdown.rstudio.com/lesson-4.html) specifying the number of rows of the mtcars dataset. Hint: nrow()\n",
    "\n",
    "9. \"Knit\" to html & pdf. \n",
    "\n",
    "**START:**\n",
    "\n",
    "### Exploring the YAML header\n",
    "\n",
    "\"Fallen off the bus\" from the last exercise? Here is a \"bus stop\" for you to get back on. We're going to work on modifying the metadata via the YAML header. [Here](https://bookdown.org/yihui/rmarkdown/html-document.html) are a bunch of YAML options that you can explore at your own pace.\n",
    "\n",
    "**INSTRUCTIONS:**\n",
    "\n",
    "1. Delete everything between the YAML header and \"2.2 What we learn to do, we learn by doing\" in this document, such that the YAML header is immediately followed by the 2.2 section header.\n",
    "\n",
    "2. Change the Author to your name. You deserve some credit!\n",
    "\n",
    "3. The output of this document is already a HTML file. We'll be specifying settings for the html document, so the \"html_document:\" line needs to go on a new line after the \"output:\" field, like this:\n",
    "\n",
    "```\n",
    "output:\n",
    "  html_document:\n",
    "    SETTINGS\n",
    "    GO\n",
    "    HERE\n",
    "```\n",
    "    \n",
    "3. Add the following settings:\n",
    "\n",
    "- Keep the \"md\" intermediate file with `keep_md: true`\n",
    "- Add a theme. My favorite is cerulean: `theme: cerulean`\n",
    "- Add a table of contents with `toc: true`\n",
    "- Make the toc float: `toc_float: true`\n",
    "\n",
    "4. Save this document to a reasonable filename and location. \n",
    "\n",
    "5. Knit the results! You can do this by clicking on \"Knit > Knit to HTML\" or do File > Knit Document. RStudio should display a preview of the resulting HTML. Also, look at the file browser, you should see the R Markdown document (my-first-markdown.Rmd) and the resulting HTML (my-first-markdown.html)\n",
    "\n",
    "### Last touches! Exploring chunk options\n",
    "\n",
    "Another bus stop! Couldn't get previous exercises to work? No problem, just start a fresh R Markdown document with File -> New File -> R Markdown (only if you need to!) and copy + paste everything below the YAML header (section 2.2 of this worksheet). Need more help? Ask any of the TAs, we'll help you troubleshoot.\n",
    "\n",
    "Just like YAML is metadata for the Rmd document, *code chunk options* are metadata for the code chunk. Specify them within the `{r}` at the top of a code chunk, separated by commas.\n",
    "\n",
    "**INSTRUCTIONS:**\n",
    "\n",
    "1. In any of the code chunks that you have created above, hide the code from the output with `echo = FALSE`. It would look like this `{r echo = FALSE}`.\n",
    "\n",
    "2. Prevent warnings from the chunk that loads packages with `warning = FALSE`.\n",
    "\n",
    "3. Knit the results. Can you spot the differences?\n"
   ]
  }
 ],
 "metadata": {
  "jupytext": {
   "cell_metadata_filter": "warning,name,message,-all",
   "notebook_metadata_filter": "-all",
   "text_representation": {
    "extension": ".Rmd",
    "format_name": "rmarkdown"
   }
  },
  "kernelspec": {
   "display_name": "R",
   "language": "R",
   "name": "ir"
  },
  "language_info": {
   "codemirror_mode": "r",
   "file_extension": ".r",
   "mimetype": "text/x-r-source",
   "name": "R",
   "pygments_lexer": "r",
   "version": "4.0.2"
  }
 },
 "nbformat": 4,
 "nbformat_minor": 4
}
